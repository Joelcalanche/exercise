{
 "cells": [
  {
   "cell_type": "markdown",
   "id": "honest-cardiff",
   "metadata": {},
   "source": [
    "# Predict which customers are going to pick up the phone. T\n",
    "This notebook looks into using various Python-based machine learning and data science libraries in an attempt to build a machine learning model capable of predicting whether or not a customer going to pick up the phone.\n",
    "\n",
    "We're going to take the following approach:\n",
    "\n",
    "1. Problem definition\n",
    "2. Data\n",
    "3. Evaluation\n",
    "4. Features\n",
    "5. Modelling\n",
    "6. Experimentation"
   ]
  },
  {
   "cell_type": "markdown",
   "id": "departmental-glenn",
   "metadata": {},
   "source": [
    "##  1. Problem definition\n",
    "\n",
    "\n",
    "In a statement,\n",
    "\n",
    "``Given data about the performance of the commercial activity carried\n",
    "out by the Client Remote Management team, can we predict whether or not a client will pick up the phone?``"
   ]
  },
  {
   "cell_type": "markdown",
   "id": "armed-hypothesis",
   "metadata": {},
   "source": [
    "## 2. Data\n",
    "The original data came from Portuguese bank.\n",
    "\n",
    "The dataset:\n",
    "There’s two datasets:\n",
    "• Clients.csv – This file contains the personal information of each customer, such as\n",
    "age, gender, location,…\n",
    "• Phone_calls_history.csv – This file contains the history of attempted calls made by\n",
    "the call centre team\n",
    "The details of each column can be found on the tables_description.csv file attached"
   ]
  },
  {
   "cell_type": "markdown",
   "id": "defined-radical",
   "metadata": {},
   "source": [
    "## 3. Evaluation\n",
    "If we can reach 75% accuracy at predicting whether or not a client pick yo the phone during the proof of concept, we'll pursue the project."
   ]
  },
  {
   "attachments": {},
   "cell_type": "markdown",
   "id": "lovely-parish",
   "metadata": {},
   "source": [
    "## 4. Features\n",
    "This is where you'll get different information about each of the features in your data. **Create data dictionary**:\n",
    "\n",
    "### Clients Table\t\n",
    "\n",
    "\n",
    "* n_cliente: Client ID\n",
    "* age: Client Age\n",
    "* marital_status: Client's marital status\n",
    "* location: Client's location\n",
    "* salary_interval: Average interval of the last 6 salaries\n",
    "* active_portfolio: Sum of active portfolio amounts\n",
    "\n",
    "\n",
    "### Phone_calls_history table\n",
    "\n",
    "\n",
    "* interaction_id: interaction number\t\n",
    "* n_cliente: Client ID\t\n",
    "* date: date of the call\t\n",
    "* month: Month in which the call took place \t\n",
    "* weekday: Day of the week in which the call took place\t\n",
    "* hour: call start hour\t\n",
    "* answered: It allows to identify if the call was carried out successfully or not. \t0 - Unsuccessful, 1 - successful.\n",
    "\n",
    "\n",
    "\n",
    "\n"
   ]
  },
  {
   "cell_type": "markdown",
   "id": "several-conservative",
   "metadata": {},
   "source": [
    "## Preparing the tools\n",
    "we're going to use pandas, matplotlit and NumPy for data analysis and manipulation\n",
    "\n",
    "\n"
   ]
  },
  {
   "cell_type": "code",
   "execution_count": 1,
   "id": "secret-april",
   "metadata": {},
   "outputs": [],
   "source": [
    "# Import all the tools we need\n",
    "# Regular EDA ( exploratory data analysis) and plotting libraries\n",
    "import numpy as np\n",
    "import pandas as pd\n",
    "import matplotlib.pyplot as plt\n",
    "import seaborn as sns\n",
    "%matplotlib inline\n",
    "# we want our plots to appear inside the notebook\n",
    "\n",
    "# Models from Scikit-learn\n",
    "from sklearn.linear_model import LogisticRegression\n",
    "from sklearn.neighbors import KNeighborsClassifier\n",
    "from sklearn.ensemble import RandomForestClassifier\n",
    "# Model Evaluations\n",
    "from sklearn.model_selection import train_test_split, cross_val_score\n",
    "from sklearn.model_selection import RandomizedSearchCV, GridSearchCV\n",
    "from sklearn.metrics import confusion_matrix, classification_report\n",
    "from sklearn.metrics import precision_score, recall_score, f1_score\n",
    "from sklearn.metrics import plot_roc_curve"
   ]
  },
  {
   "cell_type": "markdown",
   "id": "marked-owner",
   "metadata": {},
   "source": [
    "## Load the data\n",
    "\n"
   ]
  },
  {
   "cell_type": "code",
   "execution_count": 12,
   "id": "trying-expense",
   "metadata": {},
   "outputs": [
    {
     "data": {
      "text/html": [
       "<div>\n",
       "<style scoped>\n",
       "    .dataframe tbody tr th:only-of-type {\n",
       "        vertical-align: middle;\n",
       "    }\n",
       "\n",
       "    .dataframe tbody tr th {\n",
       "        vertical-align: top;\n",
       "    }\n",
       "\n",
       "    .dataframe thead th {\n",
       "        text-align: right;\n",
       "    }\n",
       "</style>\n",
       "<table border=\"1\" class=\"dataframe\">\n",
       "  <thead>\n",
       "    <tr style=\"text-align: right;\">\n",
       "      <th></th>\n",
       "      <th>n_cliente</th>\n",
       "      <th>age</th>\n",
       "      <th>marital_status</th>\n",
       "      <th>location</th>\n",
       "      <th>salary_interval</th>\n",
       "      <th>active_portfolio</th>\n",
       "    </tr>\n",
       "  </thead>\n",
       "  <tbody>\n",
       "    <tr>\n",
       "      <th>0</th>\n",
       "      <td>fa7e253f3ce347cea79b1ea04bd297b4</td>\n",
       "      <td>53</td>\n",
       "      <td>CASADO REG COMUNHAO ADQUIRIDOS</td>\n",
       "      <td>LISBOA</td>\n",
       "      <td>0</td>\n",
       "      <td>25735.05</td>\n",
       "    </tr>\n",
       "    <tr>\n",
       "      <th>1</th>\n",
       "      <td>9dd6227353074a06b2099ad454a1d40c</td>\n",
       "      <td>57</td>\n",
       "      <td>CASADO REG COMUNHAO ADQUIRIDOS</td>\n",
       "      <td>VIANA DO CASTELO</td>\n",
       "      <td>1500-1999</td>\n",
       "      <td>0.00</td>\n",
       "    </tr>\n",
       "    <tr>\n",
       "      <th>2</th>\n",
       "      <td>d2f463f6ae8f4d878c54b518ba1af9ea</td>\n",
       "      <td>66</td>\n",
       "      <td>VIUVO</td>\n",
       "      <td>LISBOA</td>\n",
       "      <td>0</td>\n",
       "      <td>86084.21</td>\n",
       "    </tr>\n",
       "    <tr>\n",
       "      <th>3</th>\n",
       "      <td>098903d9d01744d68b08297d97a424ad</td>\n",
       "      <td>43</td>\n",
       "      <td>SOLTEIRO</td>\n",
       "      <td>FARO</td>\n",
       "      <td>0</td>\n",
       "      <td>0.00</td>\n",
       "    </tr>\n",
       "    <tr>\n",
       "      <th>4</th>\n",
       "      <td>d5b0f1136bab47dda489d1eeaae9edf4</td>\n",
       "      <td>35</td>\n",
       "      <td>SOLTEIRO</td>\n",
       "      <td>PORTO</td>\n",
       "      <td>0</td>\n",
       "      <td>0.00</td>\n",
       "    </tr>\n",
       "  </tbody>\n",
       "</table>\n",
       "</div>"
      ],
      "text/plain": [
       "                          n_cliente  age                  marital_status  \\\n",
       "0  fa7e253f3ce347cea79b1ea04bd297b4   53  CASADO REG COMUNHAO ADQUIRIDOS   \n",
       "1  9dd6227353074a06b2099ad454a1d40c   57  CASADO REG COMUNHAO ADQUIRIDOS   \n",
       "2  d2f463f6ae8f4d878c54b518ba1af9ea   66  VIUVO                            \n",
       "3  098903d9d01744d68b08297d97a424ad   43  SOLTEIRO                         \n",
       "4  d5b0f1136bab47dda489d1eeaae9edf4   35  SOLTEIRO                         \n",
       "\n",
       "           location salary_interval  active_portfolio  \n",
       "0            LISBOA               0          25735.05  \n",
       "1  VIANA DO CASTELO       1500-1999              0.00  \n",
       "2            LISBOA               0          86084.21  \n",
       "3              FARO               0              0.00  \n",
       "4             PORTO               0              0.00  "
      ]
     },
     "execution_count": 12,
     "metadata": {},
     "output_type": "execute_result"
    }
   ],
   "source": [
    "clients = pd.read_csv(\"./fullvenue/clients.csv\")\n",
    "clients.head()"
   ]
  },
  {
   "cell_type": "code",
   "execution_count": 28,
   "id": "subsequent-pakistan",
   "metadata": {},
   "outputs": [
    {
     "data": {
      "text/plain": [
       "1000"
      ]
     },
     "execution_count": 28,
     "metadata": {},
     "output_type": "execute_result"
    }
   ],
   "source": [
    "len(clients)"
   ]
  },
  {
   "cell_type": "code",
   "execution_count": 19,
   "id": "sought-soldier",
   "metadata": {},
   "outputs": [
    {
     "data": {
      "text/html": [
       "<div>\n",
       "<style scoped>\n",
       "    .dataframe tbody tr th:only-of-type {\n",
       "        vertical-align: middle;\n",
       "    }\n",
       "\n",
       "    .dataframe tbody tr th {\n",
       "        vertical-align: top;\n",
       "    }\n",
       "\n",
       "    .dataframe thead th {\n",
       "        text-align: right;\n",
       "    }\n",
       "</style>\n",
       "<table border=\"1\" class=\"dataframe\">\n",
       "  <thead>\n",
       "    <tr style=\"text-align: right;\">\n",
       "      <th></th>\n",
       "      <th>n_cliente</th>\n",
       "      <th>age</th>\n",
       "      <th>marital_status</th>\n",
       "      <th>location</th>\n",
       "      <th>salary_interval</th>\n",
       "      <th>active_portfolio</th>\n",
       "    </tr>\n",
       "  </thead>\n",
       "  <tbody>\n",
       "    <tr>\n",
       "      <th>995</th>\n",
       "      <td>ea40a71fbc504a42a7f38919cf3e336e</td>\n",
       "      <td>47</td>\n",
       "      <td>CASADO REG COMUNHAO ADQUIRIDOS</td>\n",
       "      <td>BRAGA</td>\n",
       "      <td>0</td>\n",
       "      <td>0.0</td>\n",
       "    </tr>\n",
       "    <tr>\n",
       "      <th>996</th>\n",
       "      <td>ef1288f082d14ce39995ba0e62a9ff5d</td>\n",
       "      <td>38</td>\n",
       "      <td>SOLTEIRO</td>\n",
       "      <td>SETUBAL</td>\n",
       "      <td>500-999</td>\n",
       "      <td>0.0</td>\n",
       "    </tr>\n",
       "    <tr>\n",
       "      <th>997</th>\n",
       "      <td>107d82267a5c4899b97c3d97a975eb51</td>\n",
       "      <td>30</td>\n",
       "      <td>SOLTEIRO</td>\n",
       "      <td>LISBOA</td>\n",
       "      <td>0</td>\n",
       "      <td>0.0</td>\n",
       "    </tr>\n",
       "    <tr>\n",
       "      <th>998</th>\n",
       "      <td>5f7409bcaafb455fa9d9a6f4e3101861</td>\n",
       "      <td>33</td>\n",
       "      <td>UNIDO DE FACTO</td>\n",
       "      <td>SANTAREM</td>\n",
       "      <td>0</td>\n",
       "      <td>0.0</td>\n",
       "    </tr>\n",
       "    <tr>\n",
       "      <th>999</th>\n",
       "      <td>563ddd9909a7411dabd70b858ce00b5c</td>\n",
       "      <td>57</td>\n",
       "      <td>CASADO REG COMUNHAO ADQUIRIDOS</td>\n",
       "      <td>-</td>\n",
       "      <td>0</td>\n",
       "      <td>0.0</td>\n",
       "    </tr>\n",
       "  </tbody>\n",
       "</table>\n",
       "</div>"
      ],
      "text/plain": [
       "                            n_cliente  age                  marital_status  \\\n",
       "995  ea40a71fbc504a42a7f38919cf3e336e   47  CASADO REG COMUNHAO ADQUIRIDOS   \n",
       "996  ef1288f082d14ce39995ba0e62a9ff5d   38  SOLTEIRO                         \n",
       "997  107d82267a5c4899b97c3d97a975eb51   30  SOLTEIRO                         \n",
       "998  5f7409bcaafb455fa9d9a6f4e3101861   33  UNIDO DE FACTO                   \n",
       "999  563ddd9909a7411dabd70b858ce00b5c   57  CASADO REG COMUNHAO ADQUIRIDOS   \n",
       "\n",
       "     location salary_interval  active_portfolio  \n",
       "995     BRAGA               0               0.0  \n",
       "996   SETUBAL         500-999               0.0  \n",
       "997    LISBOA               0               0.0  \n",
       "998  SANTAREM               0               0.0  \n",
       "999         -               0               0.0  "
      ]
     },
     "execution_count": 19,
     "metadata": {},
     "output_type": "execute_result"
    }
   ],
   "source": [
    "clients.tail()"
   ]
  },
  {
   "cell_type": "code",
   "execution_count": 14,
   "id": "stock-briefing",
   "metadata": {},
   "outputs": [
    {
     "data": {
      "text/html": [
       "<div>\n",
       "<style scoped>\n",
       "    .dataframe tbody tr th:only-of-type {\n",
       "        vertical-align: middle;\n",
       "    }\n",
       "\n",
       "    .dataframe tbody tr th {\n",
       "        vertical-align: top;\n",
       "    }\n",
       "\n",
       "    .dataframe thead th {\n",
       "        text-align: right;\n",
       "    }\n",
       "</style>\n",
       "<table border=\"1\" class=\"dataframe\">\n",
       "  <thead>\n",
       "    <tr style=\"text-align: right;\">\n",
       "      <th></th>\n",
       "      <th>interaction_id</th>\n",
       "      <th>n_cliente</th>\n",
       "      <th>date</th>\n",
       "      <th>month</th>\n",
       "      <th>weekday</th>\n",
       "      <th>hour</th>\n",
       "      <th>answered</th>\n",
       "    </tr>\n",
       "  </thead>\n",
       "  <tbody>\n",
       "    <tr>\n",
       "      <th>0</th>\n",
       "      <td>134338673</td>\n",
       "      <td>fe92248729c44f448481c5780127e6d1</td>\n",
       "      <td>29/09/2020</td>\n",
       "      <td>SETEMBRO</td>\n",
       "      <td>TERCA-FEIRA</td>\n",
       "      <td>9</td>\n",
       "      <td>1</td>\n",
       "    </tr>\n",
       "    <tr>\n",
       "      <th>1</th>\n",
       "      <td>138365441</td>\n",
       "      <td>d235bcd9b61e439f876e1fd161014985</td>\n",
       "      <td>16/11/2020</td>\n",
       "      <td>NOVEMBRO</td>\n",
       "      <td>SEGUNDA-FEIRA</td>\n",
       "      <td>16</td>\n",
       "      <td>1</td>\n",
       "    </tr>\n",
       "    <tr>\n",
       "      <th>2</th>\n",
       "      <td>138790167</td>\n",
       "      <td>58f19d9ca083478c98a715287b2e356c</td>\n",
       "      <td>24/11/2020</td>\n",
       "      <td>NOVEMBRO</td>\n",
       "      <td>TERCA-FEIRA</td>\n",
       "      <td>11</td>\n",
       "      <td>0</td>\n",
       "    </tr>\n",
       "    <tr>\n",
       "      <th>3</th>\n",
       "      <td>130177935</td>\n",
       "      <td>d02b3f88a772486385642416b78714cc</td>\n",
       "      <td>16/07/2020</td>\n",
       "      <td>JULHO</td>\n",
       "      <td>QUINTA-FEIRA</td>\n",
       "      <td>10</td>\n",
       "      <td>0</td>\n",
       "    </tr>\n",
       "    <tr>\n",
       "      <th>4</th>\n",
       "      <td>119408985</td>\n",
       "      <td>342f6adede604e2d87d640288455a86c</td>\n",
       "      <td>06/03/2020</td>\n",
       "      <td>MARCO</td>\n",
       "      <td>SEXTA-FEIRA</td>\n",
       "      <td>11</td>\n",
       "      <td>1</td>\n",
       "    </tr>\n",
       "  </tbody>\n",
       "</table>\n",
       "</div>"
      ],
      "text/plain": [
       "   interaction_id                         n_cliente        date     month  \\\n",
       "0       134338673  fe92248729c44f448481c5780127e6d1  29/09/2020  SETEMBRO   \n",
       "1       138365441  d235bcd9b61e439f876e1fd161014985  16/11/2020  NOVEMBRO   \n",
       "2       138790167  58f19d9ca083478c98a715287b2e356c  24/11/2020  NOVEMBRO   \n",
       "3       130177935  d02b3f88a772486385642416b78714cc  16/07/2020     JULHO   \n",
       "4       119408985  342f6adede604e2d87d640288455a86c  06/03/2020     MARCO   \n",
       "\n",
       "         weekday  hour  answered  \n",
       "0    TERCA-FEIRA     9         1  \n",
       "1  SEGUNDA-FEIRA    16         1  \n",
       "2    TERCA-FEIRA    11         0  \n",
       "3   QUINTA-FEIRA    10         0  \n",
       "4    SEXTA-FEIRA    11         1  "
      ]
     },
     "execution_count": 14,
     "metadata": {},
     "output_type": "execute_result"
    }
   ],
   "source": [
    "call_history = pd.read_csv(\"./fullvenue/phone_calls_history.csv\")\n",
    "\n",
    "call_history.head()"
   ]
  },
  {
   "cell_type": "code",
   "execution_count": 24,
   "id": "chief-killing",
   "metadata": {},
   "outputs": [
    {
     "data": {
      "text/html": [
       "<div>\n",
       "<style scoped>\n",
       "    .dataframe tbody tr th:only-of-type {\n",
       "        vertical-align: middle;\n",
       "    }\n",
       "\n",
       "    .dataframe tbody tr th {\n",
       "        vertical-align: top;\n",
       "    }\n",
       "\n",
       "    .dataframe thead th {\n",
       "        text-align: right;\n",
       "    }\n",
       "</style>\n",
       "<table border=\"1\" class=\"dataframe\">\n",
       "  <thead>\n",
       "    <tr style=\"text-align: right;\">\n",
       "      <th></th>\n",
       "      <th>interaction_id</th>\n",
       "      <th>n_cliente</th>\n",
       "      <th>date</th>\n",
       "      <th>month</th>\n",
       "      <th>weekday</th>\n",
       "      <th>hour</th>\n",
       "      <th>answered</th>\n",
       "    </tr>\n",
       "  </thead>\n",
       "  <tbody>\n",
       "    <tr>\n",
       "      <th>7511</th>\n",
       "      <td>121270875</td>\n",
       "      <td>78ceb86e84eb4f08825f5a057bf8f3c3</td>\n",
       "      <td>31/03/2020</td>\n",
       "      <td>MARCO</td>\n",
       "      <td>TERCA-FEIRA</td>\n",
       "      <td>12</td>\n",
       "      <td>0</td>\n",
       "    </tr>\n",
       "    <tr>\n",
       "      <th>7512</th>\n",
       "      <td>124709445</td>\n",
       "      <td>01c79a286b474f73bdd42c65cbb9c74c</td>\n",
       "      <td>28/04/2020</td>\n",
       "      <td>ABRIL</td>\n",
       "      <td>TERCA-FEIRA</td>\n",
       "      <td>9</td>\n",
       "      <td>1</td>\n",
       "    </tr>\n",
       "    <tr>\n",
       "      <th>7513</th>\n",
       "      <td>46402756</td>\n",
       "      <td>ba528b3607f645a5867d9400c188f8aa</td>\n",
       "      <td>14/07/2020</td>\n",
       "      <td>JULHO</td>\n",
       "      <td>TERCA-FEIRA</td>\n",
       "      <td>13</td>\n",
       "      <td>1</td>\n",
       "    </tr>\n",
       "    <tr>\n",
       "      <th>7514</th>\n",
       "      <td>137677023</td>\n",
       "      <td>070c23788c204562939d94acd76a0f59</td>\n",
       "      <td>04/11/2020</td>\n",
       "      <td>NOVEMBRO</td>\n",
       "      <td>QUARTA-FEIRA</td>\n",
       "      <td>12</td>\n",
       "      <td>1</td>\n",
       "    </tr>\n",
       "    <tr>\n",
       "      <th>7515</th>\n",
       "      <td>138987951</td>\n",
       "      <td>065f4b25aac64ce1a8ddece29f0affa2</td>\n",
       "      <td>27/11/2020</td>\n",
       "      <td>NOVEMBRO</td>\n",
       "      <td>SEXTA-FEIRA</td>\n",
       "      <td>11</td>\n",
       "      <td>1</td>\n",
       "    </tr>\n",
       "  </tbody>\n",
       "</table>\n",
       "</div>"
      ],
      "text/plain": [
       "      interaction_id                         n_cliente        date     month  \\\n",
       "7511       121270875  78ceb86e84eb4f08825f5a057bf8f3c3  31/03/2020     MARCO   \n",
       "7512       124709445  01c79a286b474f73bdd42c65cbb9c74c  28/04/2020     ABRIL   \n",
       "7513        46402756  ba528b3607f645a5867d9400c188f8aa  14/07/2020     JULHO   \n",
       "7514       137677023  070c23788c204562939d94acd76a0f59  04/11/2020  NOVEMBRO   \n",
       "7515       138987951  065f4b25aac64ce1a8ddece29f0affa2  27/11/2020  NOVEMBRO   \n",
       "\n",
       "           weekday  hour  answered  \n",
       "7511   TERCA-FEIRA    12         0  \n",
       "7512   TERCA-FEIRA     9         1  \n",
       "7513   TERCA-FEIRA    13         1  \n",
       "7514  QUARTA-FEIRA    12         1  \n",
       "7515   SEXTA-FEIRA    11         1  "
      ]
     },
     "execution_count": 24,
     "metadata": {},
     "output_type": "execute_result"
    }
   ],
   "source": [
    "call_history.tail()"
   ]
  },
  {
   "cell_type": "code",
   "execution_count": 23,
   "id": "humanitarian-irrigation",
   "metadata": {},
   "outputs": [
    {
     "data": {
      "text/plain": [
       "interaction_id                            48457444\n",
       "n_cliente         147404f40d084492a59e1967c644fa46\n",
       "date                                    25/11/2020\n",
       "month                                     NOVEMBRO\n",
       "weekday                               QUARTA-FEIRA\n",
       "hour                                            10\n",
       "answered                                         1\n",
       "Name: 999, dtype: object"
      ]
     },
     "execution_count": 23,
     "metadata": {},
     "output_type": "execute_result"
    }
   ],
   "source": [
    "call_history.iloc[999]"
   ]
  },
  {
   "cell_type": "code",
   "execution_count": 15,
   "id": "moving-plumbing",
   "metadata": {},
   "outputs": [
    {
     "data": {
      "text/plain": [
       "(7516, 7)"
      ]
     },
     "execution_count": 15,
     "metadata": {},
     "output_type": "execute_result"
    }
   ],
   "source": [
    "call_history.shape"
   ]
  },
  {
   "cell_type": "code",
   "execution_count": 112,
   "id": "settled-latex",
   "metadata": {
    "scrolled": false
   },
   "outputs": [
    {
     "data": {
      "text/html": [
       "<div>\n",
       "<style scoped>\n",
       "    .dataframe tbody tr th:only-of-type {\n",
       "        vertical-align: middle;\n",
       "    }\n",
       "\n",
       "    .dataframe tbody tr th {\n",
       "        vertical-align: top;\n",
       "    }\n",
       "\n",
       "    .dataframe thead th {\n",
       "        text-align: right;\n",
       "    }\n",
       "</style>\n",
       "<table border=\"1\" class=\"dataframe\">\n",
       "  <thead>\n",
       "    <tr style=\"text-align: right;\">\n",
       "      <th></th>\n",
       "      <th>n_cliente</th>\n",
       "      <th>age</th>\n",
       "      <th>marital_status</th>\n",
       "      <th>location</th>\n",
       "      <th>salary_interval</th>\n",
       "      <th>active_portfolio</th>\n",
       "      <th>interaction_id</th>\n",
       "      <th>date</th>\n",
       "      <th>month</th>\n",
       "      <th>weekday</th>\n",
       "      <th>hour</th>\n",
       "      <th>answered</th>\n",
       "    </tr>\n",
       "  </thead>\n",
       "  <tbody>\n",
       "    <tr>\n",
       "      <th>0</th>\n",
       "      <td>fa7e253f3ce347cea79b1ea04bd297b4</td>\n",
       "      <td>53</td>\n",
       "      <td>CASADO REG COMUNHAO ADQUIRIDOS</td>\n",
       "      <td>LISBOA</td>\n",
       "      <td>0</td>\n",
       "      <td>25735.05</td>\n",
       "      <td>139309321</td>\n",
       "      <td>03/12/2020</td>\n",
       "      <td>DEZEMBRO</td>\n",
       "      <td>QUINTA-FEIRA</td>\n",
       "      <td>13</td>\n",
       "      <td>1</td>\n",
       "    </tr>\n",
       "    <tr>\n",
       "      <th>1</th>\n",
       "      <td>fa7e253f3ce347cea79b1ea04bd297b4</td>\n",
       "      <td>53</td>\n",
       "      <td>CASADO REG COMUNHAO ADQUIRIDOS</td>\n",
       "      <td>LISBOA</td>\n",
       "      <td>0</td>\n",
       "      <td>25735.05</td>\n",
       "      <td>41729502</td>\n",
       "      <td>23/03/2020</td>\n",
       "      <td>MARCO</td>\n",
       "      <td>SEGUNDA-FEIRA</td>\n",
       "      <td>12</td>\n",
       "      <td>1</td>\n",
       "    </tr>\n",
       "    <tr>\n",
       "      <th>2</th>\n",
       "      <td>fa7e253f3ce347cea79b1ea04bd297b4</td>\n",
       "      <td>53</td>\n",
       "      <td>CASADO REG COMUNHAO ADQUIRIDOS</td>\n",
       "      <td>LISBOA</td>\n",
       "      <td>0</td>\n",
       "      <td>25735.05</td>\n",
       "      <td>41895414</td>\n",
       "      <td>30/03/2020</td>\n",
       "      <td>MARCO</td>\n",
       "      <td>SEGUNDA-FEIRA</td>\n",
       "      <td>9</td>\n",
       "      <td>1</td>\n",
       "    </tr>\n",
       "    <tr>\n",
       "      <th>3</th>\n",
       "      <td>fa7e253f3ce347cea79b1ea04bd297b4</td>\n",
       "      <td>53</td>\n",
       "      <td>CASADO REG COMUNHAO ADQUIRIDOS</td>\n",
       "      <td>LISBOA</td>\n",
       "      <td>0</td>\n",
       "      <td>25735.05</td>\n",
       "      <td>137597503</td>\n",
       "      <td>03/11/2020</td>\n",
       "      <td>NOVEMBRO</td>\n",
       "      <td>TERCA-FEIRA</td>\n",
       "      <td>11</td>\n",
       "      <td>1</td>\n",
       "    </tr>\n",
       "    <tr>\n",
       "      <th>4</th>\n",
       "      <td>fa7e253f3ce347cea79b1ea04bd297b4</td>\n",
       "      <td>53</td>\n",
       "      <td>CASADO REG COMUNHAO ADQUIRIDOS</td>\n",
       "      <td>LISBOA</td>\n",
       "      <td>0</td>\n",
       "      <td>25735.05</td>\n",
       "      <td>48418030</td>\n",
       "      <td>21/11/2020</td>\n",
       "      <td>NOVEMBRO</td>\n",
       "      <td>SABADO</td>\n",
       "      <td>15</td>\n",
       "      <td>1</td>\n",
       "    </tr>\n",
       "  </tbody>\n",
       "</table>\n",
       "</div>"
      ],
      "text/plain": [
       "                          n_cliente  age                  marital_status  \\\n",
       "0  fa7e253f3ce347cea79b1ea04bd297b4   53  CASADO REG COMUNHAO ADQUIRIDOS   \n",
       "1  fa7e253f3ce347cea79b1ea04bd297b4   53  CASADO REG COMUNHAO ADQUIRIDOS   \n",
       "2  fa7e253f3ce347cea79b1ea04bd297b4   53  CASADO REG COMUNHAO ADQUIRIDOS   \n",
       "3  fa7e253f3ce347cea79b1ea04bd297b4   53  CASADO REG COMUNHAO ADQUIRIDOS   \n",
       "4  fa7e253f3ce347cea79b1ea04bd297b4   53  CASADO REG COMUNHAO ADQUIRIDOS   \n",
       "\n",
       "  location salary_interval  active_portfolio  interaction_id        date  \\\n",
       "0   LISBOA               0          25735.05       139309321  03/12/2020   \n",
       "1   LISBOA               0          25735.05        41729502  23/03/2020   \n",
       "2   LISBOA               0          25735.05        41895414  30/03/2020   \n",
       "3   LISBOA               0          25735.05       137597503  03/11/2020   \n",
       "4   LISBOA               0          25735.05        48418030  21/11/2020   \n",
       "\n",
       "      month        weekday  hour  answered  \n",
       "0  DEZEMBRO   QUINTA-FEIRA    13         1  \n",
       "1     MARCO  SEGUNDA-FEIRA    12         1  \n",
       "2     MARCO  SEGUNDA-FEIRA     9         1  \n",
       "3  NOVEMBRO    TERCA-FEIRA    11         1  \n",
       "4  NOVEMBRO         SABADO    15         1  "
      ]
     },
     "execution_count": 112,
     "metadata": {},
     "output_type": "execute_result"
    }
   ],
   "source": [
    "## full data set\n",
    "df = pd.merge(clients, call_history, how=\"inner\", on=\"n_cliente\")\n",
    "\n",
    "df.head()\n",
    "\n"
   ]
  },
  {
   "cell_type": "code",
   "execution_count": 113,
   "id": "endless-edmonton",
   "metadata": {},
   "outputs": [
    {
     "data": {
      "text/plain": [
       "7516"
      ]
     },
     "execution_count": 113,
     "metadata": {},
     "output_type": "execute_result"
    }
   ],
   "source": [
    "len(df)"
   ]
  },
  {
   "cell_type": "code",
   "execution_count": 114,
   "id": "silent-spoke",
   "metadata": {},
   "outputs": [
    {
     "data": {
      "text/plain": [
       "(7516, 12)"
      ]
     },
     "execution_count": 114,
     "metadata": {},
     "output_type": "execute_result"
    }
   ],
   "source": [
    "#(rows, columns)\n",
    "df.shape"
   ]
  },
  {
   "cell_type": "code",
   "execution_count": 115,
   "id": "imported-calvin",
   "metadata": {},
   "outputs": [
    {
     "data": {
      "text/html": [
       "<div>\n",
       "<style scoped>\n",
       "    .dataframe tbody tr th:only-of-type {\n",
       "        vertical-align: middle;\n",
       "    }\n",
       "\n",
       "    .dataframe tbody tr th {\n",
       "        vertical-align: top;\n",
       "    }\n",
       "\n",
       "    .dataframe thead th {\n",
       "        text-align: right;\n",
       "    }\n",
       "</style>\n",
       "<table border=\"1\" class=\"dataframe\">\n",
       "  <thead>\n",
       "    <tr style=\"text-align: right;\">\n",
       "      <th></th>\n",
       "      <th>age</th>\n",
       "      <th>marital_status</th>\n",
       "      <th>location</th>\n",
       "      <th>salary_interval</th>\n",
       "      <th>active_portfolio</th>\n",
       "      <th>interaction_id</th>\n",
       "      <th>date</th>\n",
       "      <th>month</th>\n",
       "      <th>weekday</th>\n",
       "      <th>hour</th>\n",
       "      <th>answered</th>\n",
       "    </tr>\n",
       "  </thead>\n",
       "  <tbody>\n",
       "    <tr>\n",
       "      <th>0</th>\n",
       "      <td>53</td>\n",
       "      <td>CASADO REG COMUNHAO ADQUIRIDOS</td>\n",
       "      <td>LISBOA</td>\n",
       "      <td>0</td>\n",
       "      <td>25735.05</td>\n",
       "      <td>139309321</td>\n",
       "      <td>03/12/2020</td>\n",
       "      <td>DEZEMBRO</td>\n",
       "      <td>QUINTA-FEIRA</td>\n",
       "      <td>13</td>\n",
       "      <td>1</td>\n",
       "    </tr>\n",
       "    <tr>\n",
       "      <th>1</th>\n",
       "      <td>53</td>\n",
       "      <td>CASADO REG COMUNHAO ADQUIRIDOS</td>\n",
       "      <td>LISBOA</td>\n",
       "      <td>0</td>\n",
       "      <td>25735.05</td>\n",
       "      <td>41729502</td>\n",
       "      <td>23/03/2020</td>\n",
       "      <td>MARCO</td>\n",
       "      <td>SEGUNDA-FEIRA</td>\n",
       "      <td>12</td>\n",
       "      <td>1</td>\n",
       "    </tr>\n",
       "    <tr>\n",
       "      <th>2</th>\n",
       "      <td>53</td>\n",
       "      <td>CASADO REG COMUNHAO ADQUIRIDOS</td>\n",
       "      <td>LISBOA</td>\n",
       "      <td>0</td>\n",
       "      <td>25735.05</td>\n",
       "      <td>41895414</td>\n",
       "      <td>30/03/2020</td>\n",
       "      <td>MARCO</td>\n",
       "      <td>SEGUNDA-FEIRA</td>\n",
       "      <td>9</td>\n",
       "      <td>1</td>\n",
       "    </tr>\n",
       "    <tr>\n",
       "      <th>3</th>\n",
       "      <td>53</td>\n",
       "      <td>CASADO REG COMUNHAO ADQUIRIDOS</td>\n",
       "      <td>LISBOA</td>\n",
       "      <td>0</td>\n",
       "      <td>25735.05</td>\n",
       "      <td>137597503</td>\n",
       "      <td>03/11/2020</td>\n",
       "      <td>NOVEMBRO</td>\n",
       "      <td>TERCA-FEIRA</td>\n",
       "      <td>11</td>\n",
       "      <td>1</td>\n",
       "    </tr>\n",
       "    <tr>\n",
       "      <th>4</th>\n",
       "      <td>53</td>\n",
       "      <td>CASADO REG COMUNHAO ADQUIRIDOS</td>\n",
       "      <td>LISBOA</td>\n",
       "      <td>0</td>\n",
       "      <td>25735.05</td>\n",
       "      <td>48418030</td>\n",
       "      <td>21/11/2020</td>\n",
       "      <td>NOVEMBRO</td>\n",
       "      <td>SABADO</td>\n",
       "      <td>15</td>\n",
       "      <td>1</td>\n",
       "    </tr>\n",
       "  </tbody>\n",
       "</table>\n",
       "</div>"
      ],
      "text/plain": [
       "   age                  marital_status location salary_interval  \\\n",
       "0   53  CASADO REG COMUNHAO ADQUIRIDOS   LISBOA               0   \n",
       "1   53  CASADO REG COMUNHAO ADQUIRIDOS   LISBOA               0   \n",
       "2   53  CASADO REG COMUNHAO ADQUIRIDOS   LISBOA               0   \n",
       "3   53  CASADO REG COMUNHAO ADQUIRIDOS   LISBOA               0   \n",
       "4   53  CASADO REG COMUNHAO ADQUIRIDOS   LISBOA               0   \n",
       "\n",
       "   active_portfolio  interaction_id        date     month        weekday  \\\n",
       "0          25735.05       139309321  03/12/2020  DEZEMBRO   QUINTA-FEIRA   \n",
       "1          25735.05        41729502  23/03/2020     MARCO  SEGUNDA-FEIRA   \n",
       "2          25735.05        41895414  30/03/2020     MARCO  SEGUNDA-FEIRA   \n",
       "3          25735.05       137597503  03/11/2020  NOVEMBRO    TERCA-FEIRA   \n",
       "4          25735.05        48418030  21/11/2020  NOVEMBRO         SABADO   \n",
       "\n",
       "   hour  answered  \n",
       "0    13         1  \n",
       "1    12         1  \n",
       "2     9         1  \n",
       "3    11         1  \n",
       "4    15         1  "
      ]
     },
     "execution_count": 115,
     "metadata": {},
     "output_type": "execute_result"
    }
   ],
   "source": [
    "df= df.drop(\"n_cliente\", axis=1)\n",
    "df.head()"
   ]
  },
  {
   "cell_type": "code",
   "execution_count": 116,
   "id": "mathematical-picking",
   "metadata": {},
   "outputs": [
    {
     "data": {
      "text/html": [
       "<div>\n",
       "<style scoped>\n",
       "    .dataframe tbody tr th:only-of-type {\n",
       "        vertical-align: middle;\n",
       "    }\n",
       "\n",
       "    .dataframe tbody tr th {\n",
       "        vertical-align: top;\n",
       "    }\n",
       "\n",
       "    .dataframe thead th {\n",
       "        text-align: right;\n",
       "    }\n",
       "</style>\n",
       "<table border=\"1\" class=\"dataframe\">\n",
       "  <thead>\n",
       "    <tr style=\"text-align: right;\">\n",
       "      <th></th>\n",
       "      <th>age</th>\n",
       "      <th>marital_status</th>\n",
       "      <th>location</th>\n",
       "      <th>salary_interval</th>\n",
       "      <th>active_portfolio</th>\n",
       "      <th>date</th>\n",
       "      <th>month</th>\n",
       "      <th>weekday</th>\n",
       "      <th>hour</th>\n",
       "      <th>answered</th>\n",
       "    </tr>\n",
       "  </thead>\n",
       "  <tbody>\n",
       "    <tr>\n",
       "      <th>0</th>\n",
       "      <td>53</td>\n",
       "      <td>CASADO REG COMUNHAO ADQUIRIDOS</td>\n",
       "      <td>LISBOA</td>\n",
       "      <td>0</td>\n",
       "      <td>25735.05</td>\n",
       "      <td>03/12/2020</td>\n",
       "      <td>DEZEMBRO</td>\n",
       "      <td>QUINTA-FEIRA</td>\n",
       "      <td>13</td>\n",
       "      <td>1</td>\n",
       "    </tr>\n",
       "    <tr>\n",
       "      <th>1</th>\n",
       "      <td>53</td>\n",
       "      <td>CASADO REG COMUNHAO ADQUIRIDOS</td>\n",
       "      <td>LISBOA</td>\n",
       "      <td>0</td>\n",
       "      <td>25735.05</td>\n",
       "      <td>23/03/2020</td>\n",
       "      <td>MARCO</td>\n",
       "      <td>SEGUNDA-FEIRA</td>\n",
       "      <td>12</td>\n",
       "      <td>1</td>\n",
       "    </tr>\n",
       "    <tr>\n",
       "      <th>2</th>\n",
       "      <td>53</td>\n",
       "      <td>CASADO REG COMUNHAO ADQUIRIDOS</td>\n",
       "      <td>LISBOA</td>\n",
       "      <td>0</td>\n",
       "      <td>25735.05</td>\n",
       "      <td>30/03/2020</td>\n",
       "      <td>MARCO</td>\n",
       "      <td>SEGUNDA-FEIRA</td>\n",
       "      <td>9</td>\n",
       "      <td>1</td>\n",
       "    </tr>\n",
       "    <tr>\n",
       "      <th>3</th>\n",
       "      <td>53</td>\n",
       "      <td>CASADO REG COMUNHAO ADQUIRIDOS</td>\n",
       "      <td>LISBOA</td>\n",
       "      <td>0</td>\n",
       "      <td>25735.05</td>\n",
       "      <td>03/11/2020</td>\n",
       "      <td>NOVEMBRO</td>\n",
       "      <td>TERCA-FEIRA</td>\n",
       "      <td>11</td>\n",
       "      <td>1</td>\n",
       "    </tr>\n",
       "    <tr>\n",
       "      <th>4</th>\n",
       "      <td>53</td>\n",
       "      <td>CASADO REG COMUNHAO ADQUIRIDOS</td>\n",
       "      <td>LISBOA</td>\n",
       "      <td>0</td>\n",
       "      <td>25735.05</td>\n",
       "      <td>21/11/2020</td>\n",
       "      <td>NOVEMBRO</td>\n",
       "      <td>SABADO</td>\n",
       "      <td>15</td>\n",
       "      <td>1</td>\n",
       "    </tr>\n",
       "  </tbody>\n",
       "</table>\n",
       "</div>"
      ],
      "text/plain": [
       "   age                  marital_status location salary_interval  \\\n",
       "0   53  CASADO REG COMUNHAO ADQUIRIDOS   LISBOA               0   \n",
       "1   53  CASADO REG COMUNHAO ADQUIRIDOS   LISBOA               0   \n",
       "2   53  CASADO REG COMUNHAO ADQUIRIDOS   LISBOA               0   \n",
       "3   53  CASADO REG COMUNHAO ADQUIRIDOS   LISBOA               0   \n",
       "4   53  CASADO REG COMUNHAO ADQUIRIDOS   LISBOA               0   \n",
       "\n",
       "   active_portfolio        date     month        weekday  hour  answered  \n",
       "0          25735.05  03/12/2020  DEZEMBRO   QUINTA-FEIRA    13         1  \n",
       "1          25735.05  23/03/2020     MARCO  SEGUNDA-FEIRA    12         1  \n",
       "2          25735.05  30/03/2020     MARCO  SEGUNDA-FEIRA     9         1  \n",
       "3          25735.05  03/11/2020  NOVEMBRO    TERCA-FEIRA    11         1  \n",
       "4          25735.05  21/11/2020  NOVEMBRO         SABADO    15         1  "
      ]
     },
     "execution_count": 116,
     "metadata": {},
     "output_type": "execute_result"
    }
   ],
   "source": [
    "df= df.drop(\"interaction_id\", axis=1)\n",
    "df.head()"
   ]
  },
  {
   "cell_type": "code",
   "execution_count": 117,
   "id": "important-cuisine",
   "metadata": {},
   "outputs": [
    {
     "data": {
      "text/html": [
       "<div>\n",
       "<style scoped>\n",
       "    .dataframe tbody tr th:only-of-type {\n",
       "        vertical-align: middle;\n",
       "    }\n",
       "\n",
       "    .dataframe tbody tr th {\n",
       "        vertical-align: top;\n",
       "    }\n",
       "\n",
       "    .dataframe thead th {\n",
       "        text-align: right;\n",
       "    }\n",
       "</style>\n",
       "<table border=\"1\" class=\"dataframe\">\n",
       "  <thead>\n",
       "    <tr style=\"text-align: right;\">\n",
       "      <th></th>\n",
       "      <th>age</th>\n",
       "      <th>marital_status</th>\n",
       "      <th>location</th>\n",
       "      <th>salary_interval</th>\n",
       "      <th>active_portfolio</th>\n",
       "      <th>date</th>\n",
       "      <th>month</th>\n",
       "      <th>weekday</th>\n",
       "      <th>hour</th>\n",
       "      <th>answered</th>\n",
       "    </tr>\n",
       "  </thead>\n",
       "  <tbody>\n",
       "    <tr>\n",
       "      <th>7511</th>\n",
       "      <td>33</td>\n",
       "      <td>UNIDO DE FACTO</td>\n",
       "      <td>SANTAREM</td>\n",
       "      <td>0</td>\n",
       "      <td>0.0</td>\n",
       "      <td>28/10/2020</td>\n",
       "      <td>OUTUBRO</td>\n",
       "      <td>QUARTA-FEIRA</td>\n",
       "      <td>14</td>\n",
       "      <td>1</td>\n",
       "    </tr>\n",
       "    <tr>\n",
       "      <th>7512</th>\n",
       "      <td>57</td>\n",
       "      <td>CASADO REG COMUNHAO ADQUIRIDOS</td>\n",
       "      <td>-</td>\n",
       "      <td>0</td>\n",
       "      <td>0.0</td>\n",
       "      <td>03/12/2020</td>\n",
       "      <td>DEZEMBRO</td>\n",
       "      <td>QUINTA-FEIRA</td>\n",
       "      <td>16</td>\n",
       "      <td>1</td>\n",
       "    </tr>\n",
       "    <tr>\n",
       "      <th>7513</th>\n",
       "      <td>57</td>\n",
       "      <td>CASADO REG COMUNHAO ADQUIRIDOS</td>\n",
       "      <td>-</td>\n",
       "      <td>0</td>\n",
       "      <td>0.0</td>\n",
       "      <td>17/12/2020</td>\n",
       "      <td>DEZEMBRO</td>\n",
       "      <td>QUINTA-FEIRA</td>\n",
       "      <td>15</td>\n",
       "      <td>0</td>\n",
       "    </tr>\n",
       "    <tr>\n",
       "      <th>7514</th>\n",
       "      <td>57</td>\n",
       "      <td>CASADO REG COMUNHAO ADQUIRIDOS</td>\n",
       "      <td>-</td>\n",
       "      <td>0</td>\n",
       "      <td>0.0</td>\n",
       "      <td>30/11/2020</td>\n",
       "      <td>NOVEMBRO</td>\n",
       "      <td>SEGUNDA-FEIRA</td>\n",
       "      <td>17</td>\n",
       "      <td>1</td>\n",
       "    </tr>\n",
       "    <tr>\n",
       "      <th>7515</th>\n",
       "      <td>57</td>\n",
       "      <td>CASADO REG COMUNHAO ADQUIRIDOS</td>\n",
       "      <td>-</td>\n",
       "      <td>0</td>\n",
       "      <td>0.0</td>\n",
       "      <td>03/12/2020</td>\n",
       "      <td>DEZEMBRO</td>\n",
       "      <td>QUINTA-FEIRA</td>\n",
       "      <td>16</td>\n",
       "      <td>1</td>\n",
       "    </tr>\n",
       "  </tbody>\n",
       "</table>\n",
       "</div>"
      ],
      "text/plain": [
       "      age                  marital_status  location salary_interval  \\\n",
       "7511   33  UNIDO DE FACTO                  SANTAREM               0   \n",
       "7512   57  CASADO REG COMUNHAO ADQUIRIDOS         -               0   \n",
       "7513   57  CASADO REG COMUNHAO ADQUIRIDOS         -               0   \n",
       "7514   57  CASADO REG COMUNHAO ADQUIRIDOS         -               0   \n",
       "7515   57  CASADO REG COMUNHAO ADQUIRIDOS         -               0   \n",
       "\n",
       "      active_portfolio        date     month        weekday  hour  answered  \n",
       "7511               0.0  28/10/2020   OUTUBRO   QUARTA-FEIRA    14         1  \n",
       "7512               0.0  03/12/2020  DEZEMBRO   QUINTA-FEIRA    16         1  \n",
       "7513               0.0  17/12/2020  DEZEMBRO   QUINTA-FEIRA    15         0  \n",
       "7514               0.0  30/11/2020  NOVEMBRO  SEGUNDA-FEIRA    17         1  \n",
       "7515               0.0  03/12/2020  DEZEMBRO   QUINTA-FEIRA    16         1  "
      ]
     },
     "execution_count": 117,
     "metadata": {},
     "output_type": "execute_result"
    }
   ],
   "source": [
    "df.tail()"
   ]
  },
  {
   "cell_type": "markdown",
   "id": "intense-surrey",
   "metadata": {},
   "source": [
    "## Data Exploration ( exploratory data analysis or EDA)\n",
    "The goal here is to find out about the data and become a subject matter expert on the dataset you're working with\n",
    "\n",
    "* What question(s) are you trying to solve?\n",
    "* what kind of data do we have and how do we treat different types?\n",
    "* What's missing from the data and how do you deal with it?\n",
    "* Where are the outliers and why should you care about them?\n",
    "* How can you add, change or remove features to get more out of your data?"
   ]
  },
  {
   "cell_type": "code",
   "execution_count": 118,
   "id": "advised-scottish",
   "metadata": {},
   "outputs": [
    {
     "data": {
      "text/plain": [
       "0            4228\n",
       "1000-1499    1167\n",
       "500-999       883\n",
       "1500-1999     603\n",
       "2000-2499     366\n",
       "<500          100\n",
       ">=3000         87\n",
       "2500-2999      82\n",
       "Name: salary_interval, dtype: int64"
      ]
     },
     "execution_count": 118,
     "metadata": {},
     "output_type": "execute_result"
    }
   ],
   "source": [
    "df[\"salary_interval\"].value_counts()"
   ]
  },
  {
   "cell_type": "code",
   "execution_count": 119,
   "id": "continental-punishment",
   "metadata": {},
   "outputs": [
    {
     "data": {
      "text/plain": [
       "1    5075\n",
       "0    2441\n",
       "Name: answered, dtype: int64"
      ]
     },
     "execution_count": 119,
     "metadata": {},
     "output_type": "execute_result"
    }
   ],
   "source": [
    "# Let's find out how many of each class there\n",
    "df[\"answered\"].value_counts()"
   ]
  },
  {
   "cell_type": "code",
   "execution_count": 120,
   "id": "private-fight",
   "metadata": {},
   "outputs": [
    {
     "data": {
      "image/png": "[encoded data removed]",
      "text/plain": [
       "<Figure size 432x288 with 1 Axes>"
      ]
     },
     "metadata": {
      "needs_background": "light"
     },
     "output_type": "display_data"
    }
   ],
   "source": [
    "df[\"answered\"].value_counts().plot(kind=\"bar\", color=[\"salmon\", \"lightblue\"]);"
   ]
  },
  {
   "cell_type": "code",
   "execution_count": 121,
   "id": "negative-minority",
   "metadata": {},
   "outputs": [
    {
     "data": {
      "image/png": "[encoded data removed]",
      "text/plain": [
       "<Figure size 432x288 with 1 Axes>"
      ]
     },
     "metadata": {
      "needs_background": "light"
     },
     "output_type": "display_data"
    }
   ],
   "source": [
    "# Check the distribution of the age column with a histogram\n",
    "df.age.plot.hist();"
   ]
  },
  {
   "cell_type": "markdown",
   "id": "significant-count",
   "metadata": {},
   "source": []
  },
  {
   "cell_type": "code",
   "execution_count": 122,
   "id": "medium-cloud",
   "metadata": {},
   "outputs": [
    {
     "name": "stdout",
     "output_type": "stream",
     "text": [
      "<class 'pandas.core.frame.DataFrame'>\n",
      "Int64Index: 7516 entries, 0 to 7515\n",
      "Data columns (total 10 columns):\n",
      " #   Column            Non-Null Count  Dtype  \n",
      "---  ------            --------------  -----  \n",
      " 0   age               7516 non-null   int64  \n",
      " 1   marital_status    7502 non-null   object \n",
      " 2   location          7516 non-null   object \n",
      " 3   salary_interval   7516 non-null   object \n",
      " 4   active_portfolio  7516 non-null   float64\n",
      " 5   date              7516 non-null   object \n",
      " 6   month             7516 non-null   object \n",
      " 7   weekday           7516 non-null   object \n",
      " 8   hour              7516 non-null   int64  \n",
      " 9   answered          7516 non-null   int64  \n",
      "dtypes: float64(1), int64(3), object(6)\n",
      "memory usage: 645.9+ KB\n"
     ]
    }
   ],
   "source": [
    "df.info()"
   ]
  },
  {
   "cell_type": "code",
   "execution_count": 123,
   "id": "clean-maria",
   "metadata": {},
   "outputs": [
    {
     "data": {
      "text/plain": [
       "age                  0\n",
       "marital_status      14\n",
       "location             0\n",
       "salary_interval      0\n",
       "active_portfolio     0\n",
       "date                 0\n",
       "month                0\n",
       "weekday              0\n",
       "hour                 0\n",
       "answered             0\n",
       "dtype: int64"
      ]
     },
     "execution_count": 123,
     "metadata": {},
     "output_type": "execute_result"
    }
   ],
   "source": [
    "# Are there any missing values?\n",
    "df.isna().sum()\n"
   ]
  },
  {
   "cell_type": "code",
   "execution_count": 124,
   "id": "joined-symphony",
   "metadata": {},
   "outputs": [
    {
     "data": {
      "text/html": [
       "<div>\n",
       "<style scoped>\n",
       "    .dataframe tbody tr th:only-of-type {\n",
       "        vertical-align: middle;\n",
       "    }\n",
       "\n",
       "    .dataframe tbody tr th {\n",
       "        vertical-align: top;\n",
       "    }\n",
       "\n",
       "    .dataframe thead th {\n",
       "        text-align: right;\n",
       "    }\n",
       "</style>\n",
       "<table border=\"1\" class=\"dataframe\">\n",
       "  <thead>\n",
       "    <tr style=\"text-align: right;\">\n",
       "      <th></th>\n",
       "      <th>age</th>\n",
       "      <th>marital_status</th>\n",
       "      <th>location</th>\n",
       "      <th>salary_interval</th>\n",
       "      <th>active_portfolio</th>\n",
       "      <th>date</th>\n",
       "      <th>month</th>\n",
       "      <th>weekday</th>\n",
       "      <th>hour</th>\n",
       "      <th>answered</th>\n",
       "    </tr>\n",
       "  </thead>\n",
       "  <tbody>\n",
       "    <tr>\n",
       "      <th>7511</th>\n",
       "      <td>33</td>\n",
       "      <td>UNIDO DE FACTO</td>\n",
       "      <td>SANTAREM</td>\n",
       "      <td>0</td>\n",
       "      <td>0.0</td>\n",
       "      <td>28/10/2020</td>\n",
       "      <td>OUTUBRO</td>\n",
       "      <td>QUARTA-FEIRA</td>\n",
       "      <td>14</td>\n",
       "      <td>1</td>\n",
       "    </tr>\n",
       "    <tr>\n",
       "      <th>7512</th>\n",
       "      <td>57</td>\n",
       "      <td>CASADO REG COMUNHAO ADQUIRIDOS</td>\n",
       "      <td>NaN</td>\n",
       "      <td>0</td>\n",
       "      <td>0.0</td>\n",
       "      <td>03/12/2020</td>\n",
       "      <td>DEZEMBRO</td>\n",
       "      <td>QUINTA-FEIRA</td>\n",
       "      <td>16</td>\n",
       "      <td>1</td>\n",
       "    </tr>\n",
       "    <tr>\n",
       "      <th>7513</th>\n",
       "      <td>57</td>\n",
       "      <td>CASADO REG COMUNHAO ADQUIRIDOS</td>\n",
       "      <td>NaN</td>\n",
       "      <td>0</td>\n",
       "      <td>0.0</td>\n",
       "      <td>17/12/2020</td>\n",
       "      <td>DEZEMBRO</td>\n",
       "      <td>QUINTA-FEIRA</td>\n",
       "      <td>15</td>\n",
       "      <td>0</td>\n",
       "    </tr>\n",
       "    <tr>\n",
       "      <th>7514</th>\n",
       "      <td>57</td>\n",
       "      <td>CASADO REG COMUNHAO ADQUIRIDOS</td>\n",
       "      <td>NaN</td>\n",
       "      <td>0</td>\n",
       "      <td>0.0</td>\n",
       "      <td>30/11/2020</td>\n",
       "      <td>NOVEMBRO</td>\n",
       "      <td>SEGUNDA-FEIRA</td>\n",
       "      <td>17</td>\n",
       "      <td>1</td>\n",
       "    </tr>\n",
       "    <tr>\n",
       "      <th>7515</th>\n",
       "      <td>57</td>\n",
       "      <td>CASADO REG COMUNHAO ADQUIRIDOS</td>\n",
       "      <td>NaN</td>\n",
       "      <td>0</td>\n",
       "      <td>0.0</td>\n",
       "      <td>03/12/2020</td>\n",
       "      <td>DEZEMBRO</td>\n",
       "      <td>QUINTA-FEIRA</td>\n",
       "      <td>16</td>\n",
       "      <td>1</td>\n",
       "    </tr>\n",
       "  </tbody>\n",
       "</table>\n",
       "</div>"
      ],
      "text/plain": [
       "      age                  marital_status  location salary_interval  \\\n",
       "7511   33  UNIDO DE FACTO                  SANTAREM               0   \n",
       "7512   57  CASADO REG COMUNHAO ADQUIRIDOS       NaN               0   \n",
       "7513   57  CASADO REG COMUNHAO ADQUIRIDOS       NaN               0   \n",
       "7514   57  CASADO REG COMUNHAO ADQUIRIDOS       NaN               0   \n",
       "7515   57  CASADO REG COMUNHAO ADQUIRIDOS       NaN               0   \n",
       "\n",
       "      active_portfolio        date     month        weekday  hour  answered  \n",
       "7511               0.0  28/10/2020   OUTUBRO   QUARTA-FEIRA    14         1  \n",
       "7512               0.0  03/12/2020  DEZEMBRO   QUINTA-FEIRA    16         1  \n",
       "7513               0.0  17/12/2020  DEZEMBRO   QUINTA-FEIRA    15         0  \n",
       "7514               0.0  30/11/2020  NOVEMBRO  SEGUNDA-FEIRA    17         1  \n",
       "7515               0.0  03/12/2020  DEZEMBRO   QUINTA-FEIRA    16         1  "
      ]
     },
     "execution_count": 124,
     "metadata": {},
     "output_type": "execute_result"
    }
   ],
   "source": [
    "df['location'] = df['location'].replace([\"-\"], [np.nan])\n",
    "df.tail()\n",
    "\n",
    "\n",
    "\n"
   ]
  },
  {
   "cell_type": "code",
   "execution_count": 125,
   "id": "funny-class",
   "metadata": {},
   "outputs": [
    {
     "data": {
      "text/plain": [
       "age                   0\n",
       "marital_status       14\n",
       "location            629\n",
       "salary_interval       0\n",
       "active_portfolio      0\n",
       "date                  0\n",
       "month                 0\n",
       "weekday               0\n",
       "hour                  0\n",
       "answered              0\n",
       "dtype: int64"
      ]
     },
     "execution_count": 125,
     "metadata": {},
     "output_type": "execute_result"
    }
   ],
   "source": [
    "# Are there any missing values?\n",
    "df.isna().sum()\n"
   ]
  },
  {
   "cell_type": "code",
   "execution_count": 126,
   "id": "approximate-carrier",
   "metadata": {},
   "outputs": [
    {
     "data": {
      "text/html": [
       "<div>\n",
       "<style scoped>\n",
       "    .dataframe tbody tr th:only-of-type {\n",
       "        vertical-align: middle;\n",
       "    }\n",
       "\n",
       "    .dataframe tbody tr th {\n",
       "        vertical-align: top;\n",
       "    }\n",
       "\n",
       "    .dataframe thead th {\n",
       "        text-align: right;\n",
       "    }\n",
       "</style>\n",
       "<table border=\"1\" class=\"dataframe\">\n",
       "  <thead>\n",
       "    <tr style=\"text-align: right;\">\n",
       "      <th></th>\n",
       "      <th>age</th>\n",
       "      <th>marital_status</th>\n",
       "      <th>salary_interval</th>\n",
       "      <th>active_portfolio</th>\n",
       "      <th>date</th>\n",
       "      <th>month</th>\n",
       "      <th>weekday</th>\n",
       "      <th>hour</th>\n",
       "      <th>answered</th>\n",
       "    </tr>\n",
       "    <tr>\n",
       "      <th>location</th>\n",
       "      <th></th>\n",
       "      <th></th>\n",
       "      <th></th>\n",
       "      <th></th>\n",
       "      <th></th>\n",
       "      <th></th>\n",
       "      <th></th>\n",
       "      <th></th>\n",
       "      <th></th>\n",
       "    </tr>\n",
       "  </thead>\n",
       "  <tbody>\n",
       "    <tr>\n",
       "      <th>AVEIRO</th>\n",
       "      <td>243</td>\n",
       "      <td>243</td>\n",
       "      <td>243</td>\n",
       "      <td>243</td>\n",
       "      <td>243</td>\n",
       "      <td>243</td>\n",
       "      <td>243</td>\n",
       "      <td>243</td>\n",
       "      <td>243</td>\n",
       "    </tr>\n",
       "    <tr>\n",
       "      <th>AZORES</th>\n",
       "      <td>191</td>\n",
       "      <td>191</td>\n",
       "      <td>191</td>\n",
       "      <td>191</td>\n",
       "      <td>191</td>\n",
       "      <td>191</td>\n",
       "      <td>191</td>\n",
       "      <td>191</td>\n",
       "      <td>191</td>\n",
       "    </tr>\n",
       "    <tr>\n",
       "      <th>BEJA</th>\n",
       "      <td>171</td>\n",
       "      <td>171</td>\n",
       "      <td>171</td>\n",
       "      <td>171</td>\n",
       "      <td>171</td>\n",
       "      <td>171</td>\n",
       "      <td>171</td>\n",
       "      <td>171</td>\n",
       "      <td>171</td>\n",
       "    </tr>\n",
       "    <tr>\n",
       "      <th>BRAGA</th>\n",
       "      <td>315</td>\n",
       "      <td>305</td>\n",
       "      <td>315</td>\n",
       "      <td>315</td>\n",
       "      <td>315</td>\n",
       "      <td>315</td>\n",
       "      <td>315</td>\n",
       "      <td>315</td>\n",
       "      <td>315</td>\n",
       "    </tr>\n",
       "    <tr>\n",
       "      <th>BRAGANCA</th>\n",
       "      <td>18</td>\n",
       "      <td>18</td>\n",
       "      <td>18</td>\n",
       "      <td>18</td>\n",
       "      <td>18</td>\n",
       "      <td>18</td>\n",
       "      <td>18</td>\n",
       "      <td>18</td>\n",
       "      <td>18</td>\n",
       "    </tr>\n",
       "    <tr>\n",
       "      <th>CASTELO BRANCO</th>\n",
       "      <td>54</td>\n",
       "      <td>54</td>\n",
       "      <td>54</td>\n",
       "      <td>54</td>\n",
       "      <td>54</td>\n",
       "      <td>54</td>\n",
       "      <td>54</td>\n",
       "      <td>54</td>\n",
       "      <td>54</td>\n",
       "    </tr>\n",
       "    <tr>\n",
       "      <th>COIMBRA</th>\n",
       "      <td>418</td>\n",
       "      <td>418</td>\n",
       "      <td>418</td>\n",
       "      <td>418</td>\n",
       "      <td>418</td>\n",
       "      <td>418</td>\n",
       "      <td>418</td>\n",
       "      <td>418</td>\n",
       "      <td>418</td>\n",
       "    </tr>\n",
       "    <tr>\n",
       "      <th>EVORA</th>\n",
       "      <td>127</td>\n",
       "      <td>127</td>\n",
       "      <td>127</td>\n",
       "      <td>127</td>\n",
       "      <td>127</td>\n",
       "      <td>127</td>\n",
       "      <td>127</td>\n",
       "      <td>127</td>\n",
       "      <td>127</td>\n",
       "    </tr>\n",
       "    <tr>\n",
       "      <th>FARO</th>\n",
       "      <td>120</td>\n",
       "      <td>120</td>\n",
       "      <td>120</td>\n",
       "      <td>120</td>\n",
       "      <td>120</td>\n",
       "      <td>120</td>\n",
       "      <td>120</td>\n",
       "      <td>120</td>\n",
       "      <td>120</td>\n",
       "    </tr>\n",
       "    <tr>\n",
       "      <th>GUARDA</th>\n",
       "      <td>99</td>\n",
       "      <td>99</td>\n",
       "      <td>99</td>\n",
       "      <td>99</td>\n",
       "      <td>99</td>\n",
       "      <td>99</td>\n",
       "      <td>99</td>\n",
       "      <td>99</td>\n",
       "      <td>99</td>\n",
       "    </tr>\n",
       "    <tr>\n",
       "      <th>LEIRIA</th>\n",
       "      <td>249</td>\n",
       "      <td>249</td>\n",
       "      <td>249</td>\n",
       "      <td>249</td>\n",
       "      <td>249</td>\n",
       "      <td>249</td>\n",
       "      <td>249</td>\n",
       "      <td>249</td>\n",
       "      <td>249</td>\n",
       "    </tr>\n",
       "    <tr>\n",
       "      <th>LISBOA</th>\n",
       "      <td>2274</td>\n",
       "      <td>2270</td>\n",
       "      <td>2274</td>\n",
       "      <td>2274</td>\n",
       "      <td>2274</td>\n",
       "      <td>2274</td>\n",
       "      <td>2274</td>\n",
       "      <td>2274</td>\n",
       "      <td>2274</td>\n",
       "    </tr>\n",
       "    <tr>\n",
       "      <th>MADEIRA</th>\n",
       "      <td>67</td>\n",
       "      <td>67</td>\n",
       "      <td>67</td>\n",
       "      <td>67</td>\n",
       "      <td>67</td>\n",
       "      <td>67</td>\n",
       "      <td>67</td>\n",
       "      <td>67</td>\n",
       "      <td>67</td>\n",
       "    </tr>\n",
       "    <tr>\n",
       "      <th>PORTALEGRE</th>\n",
       "      <td>26</td>\n",
       "      <td>26</td>\n",
       "      <td>26</td>\n",
       "      <td>26</td>\n",
       "      <td>26</td>\n",
       "      <td>26</td>\n",
       "      <td>26</td>\n",
       "      <td>26</td>\n",
       "      <td>26</td>\n",
       "    </tr>\n",
       "    <tr>\n",
       "      <th>PORTO</th>\n",
       "      <td>958</td>\n",
       "      <td>958</td>\n",
       "      <td>958</td>\n",
       "      <td>958</td>\n",
       "      <td>958</td>\n",
       "      <td>958</td>\n",
       "      <td>958</td>\n",
       "      <td>958</td>\n",
       "      <td>958</td>\n",
       "    </tr>\n",
       "    <tr>\n",
       "      <th>SANTAREM</th>\n",
       "      <td>259</td>\n",
       "      <td>259</td>\n",
       "      <td>259</td>\n",
       "      <td>259</td>\n",
       "      <td>259</td>\n",
       "      <td>259</td>\n",
       "      <td>259</td>\n",
       "      <td>259</td>\n",
       "      <td>259</td>\n",
       "    </tr>\n",
       "    <tr>\n",
       "      <th>SETUBAL</th>\n",
       "      <td>1108</td>\n",
       "      <td>1108</td>\n",
       "      <td>1108</td>\n",
       "      <td>1108</td>\n",
       "      <td>1108</td>\n",
       "      <td>1108</td>\n",
       "      <td>1108</td>\n",
       "      <td>1108</td>\n",
       "      <td>1108</td>\n",
       "    </tr>\n",
       "    <tr>\n",
       "      <th>VIANA DO CASTELO</th>\n",
       "      <td>53</td>\n",
       "      <td>53</td>\n",
       "      <td>53</td>\n",
       "      <td>53</td>\n",
       "      <td>53</td>\n",
       "      <td>53</td>\n",
       "      <td>53</td>\n",
       "      <td>53</td>\n",
       "      <td>53</td>\n",
       "    </tr>\n",
       "    <tr>\n",
       "      <th>VILA REAL</th>\n",
       "      <td>42</td>\n",
       "      <td>42</td>\n",
       "      <td>42</td>\n",
       "      <td>42</td>\n",
       "      <td>42</td>\n",
       "      <td>42</td>\n",
       "      <td>42</td>\n",
       "      <td>42</td>\n",
       "      <td>42</td>\n",
       "    </tr>\n",
       "    <tr>\n",
       "      <th>VISEU</th>\n",
       "      <td>95</td>\n",
       "      <td>95</td>\n",
       "      <td>95</td>\n",
       "      <td>95</td>\n",
       "      <td>95</td>\n",
       "      <td>95</td>\n",
       "      <td>95</td>\n",
       "      <td>95</td>\n",
       "      <td>95</td>\n",
       "    </tr>\n",
       "  </tbody>\n",
       "</table>\n",
       "</div>"
      ],
      "text/plain": [
       "                   age  marital_status  salary_interval  active_portfolio  \\\n",
       "location                                                                    \n",
       "AVEIRO             243             243              243               243   \n",
       "AZORES             191             191              191               191   \n",
       "BEJA               171             171              171               171   \n",
       "BRAGA              315             305              315               315   \n",
       "BRAGANCA            18              18               18                18   \n",
       "CASTELO BRANCO      54              54               54                54   \n",
       "COIMBRA            418             418              418               418   \n",
       "EVORA              127             127              127               127   \n",
       "FARO               120             120              120               120   \n",
       "GUARDA              99              99               99                99   \n",
       "LEIRIA             249             249              249               249   \n",
       "LISBOA            2274            2270             2274              2274   \n",
       "MADEIRA             67              67               67                67   \n",
       "PORTALEGRE          26              26               26                26   \n",
       "PORTO              958             958              958               958   \n",
       "SANTAREM           259             259              259               259   \n",
       "SETUBAL           1108            1108             1108              1108   \n",
       "VIANA DO CASTELO    53              53               53                53   \n",
       "VILA REAL           42              42               42                42   \n",
       "VISEU               95              95               95                95   \n",
       "\n",
       "                  date  month  weekday  hour  answered  \n",
       "location                                                \n",
       "AVEIRO             243    243      243   243       243  \n",
       "AZORES             191    191      191   191       191  \n",
       "BEJA               171    171      171   171       171  \n",
       "BRAGA              315    315      315   315       315  \n",
       "BRAGANCA            18     18       18    18        18  \n",
       "CASTELO BRANCO      54     54       54    54        54  \n",
       "COIMBRA            418    418      418   418       418  \n",
       "EVORA              127    127      127   127       127  \n",
       "FARO               120    120      120   120       120  \n",
       "GUARDA              99     99       99    99        99  \n",
       "LEIRIA             249    249      249   249       249  \n",
       "LISBOA            2274   2274     2274  2274      2274  \n",
       "MADEIRA             67     67       67    67        67  \n",
       "PORTALEGRE          26     26       26    26        26  \n",
       "PORTO              958    958      958   958       958  \n",
       "SANTAREM           259    259      259   259       259  \n",
       "SETUBAL           1108   1108     1108  1108      1108  \n",
       "VIANA DO CASTELO    53     53       53    53        53  \n",
       "VILA REAL           42     42       42    42        42  \n",
       "VISEU               95     95       95    95        95  "
      ]
     },
     "execution_count": 126,
     "metadata": {},
     "output_type": "execute_result"
    }
   ],
   "source": [
    "df.groupby(\"location\").count()"
   ]
  },
  {
   "cell_type": "code",
   "execution_count": 127,
   "id": "north-oracle",
   "metadata": {},
   "outputs": [
    {
     "data": {
      "text/html": [
       "<div>\n",
       "<style scoped>\n",
       "    .dataframe tbody tr th:only-of-type {\n",
       "        vertical-align: middle;\n",
       "    }\n",
       "\n",
       "    .dataframe tbody tr th {\n",
       "        vertical-align: top;\n",
       "    }\n",
       "\n",
       "    .dataframe thead th {\n",
       "        text-align: right;\n",
       "    }\n",
       "</style>\n",
       "<table border=\"1\" class=\"dataframe\">\n",
       "  <thead>\n",
       "    <tr style=\"text-align: right;\">\n",
       "      <th></th>\n",
       "      <th>age</th>\n",
       "      <th>active_portfolio</th>\n",
       "      <th>hour</th>\n",
       "      <th>answered</th>\n",
       "    </tr>\n",
       "  </thead>\n",
       "  <tbody>\n",
       "    <tr>\n",
       "      <th>count</th>\n",
       "      <td>7516.000000</td>\n",
       "      <td>7516.000000</td>\n",
       "      <td>7516.000000</td>\n",
       "      <td>7516.000000</td>\n",
       "    </tr>\n",
       "    <tr>\n",
       "      <th>mean</th>\n",
       "      <td>43.406067</td>\n",
       "      <td>30915.001795</td>\n",
       "      <td>13.302422</td>\n",
       "      <td>0.675226</td>\n",
       "    </tr>\n",
       "    <tr>\n",
       "      <th>std</th>\n",
       "      <td>13.584563</td>\n",
       "      <td>63499.328531</td>\n",
       "      <td>3.696244</td>\n",
       "      <td>0.468321</td>\n",
       "    </tr>\n",
       "    <tr>\n",
       "      <th>min</th>\n",
       "      <td>18.000000</td>\n",
       "      <td>0.000000</td>\n",
       "      <td>0.000000</td>\n",
       "      <td>0.000000</td>\n",
       "    </tr>\n",
       "    <tr>\n",
       "      <th>25%</th>\n",
       "      <td>32.000000</td>\n",
       "      <td>0.000000</td>\n",
       "      <td>11.000000</td>\n",
       "      <td>0.000000</td>\n",
       "    </tr>\n",
       "    <tr>\n",
       "      <th>50%</th>\n",
       "      <td>42.000000</td>\n",
       "      <td>0.000000</td>\n",
       "      <td>13.000000</td>\n",
       "      <td>1.000000</td>\n",
       "    </tr>\n",
       "    <tr>\n",
       "      <th>75%</th>\n",
       "      <td>52.000000</td>\n",
       "      <td>34739.360000</td>\n",
       "      <td>16.000000</td>\n",
       "      <td>1.000000</td>\n",
       "    </tr>\n",
       "    <tr>\n",
       "      <th>max</th>\n",
       "      <td>79.000000</td>\n",
       "      <td>332881.080000</td>\n",
       "      <td>23.000000</td>\n",
       "      <td>1.000000</td>\n",
       "    </tr>\n",
       "  </tbody>\n",
       "</table>\n",
       "</div>"
      ],
      "text/plain": [
       "               age  active_portfolio         hour     answered\n",
       "count  7516.000000       7516.000000  7516.000000  7516.000000\n",
       "mean     43.406067      30915.001795    13.302422     0.675226\n",
       "std      13.584563      63499.328531     3.696244     0.468321\n",
       "min      18.000000          0.000000     0.000000     0.000000\n",
       "25%      32.000000          0.000000    11.000000     0.000000\n",
       "50%      42.000000          0.000000    13.000000     1.000000\n",
       "75%      52.000000      34739.360000    16.000000     1.000000\n",
       "max      79.000000     332881.080000    23.000000     1.000000"
      ]
     },
     "execution_count": 127,
     "metadata": {},
     "output_type": "execute_result"
    }
   ],
   "source": [
    "df.describe()"
   ]
  },
  {
   "cell_type": "markdown",
   "id": "structural-saint",
   "metadata": {},
   "source": [
    "## Answered Frecuency according to Weekday\n"
   ]
  },
  {
   "cell_type": "code",
   "execution_count": 128,
   "id": "effective-honolulu",
   "metadata": {},
   "outputs": [
    {
     "data": {
      "text/plain": [
       "QUARTA-FEIRA     1490\n",
       "SEGUNDA-FEIRA    1437\n",
       "QUINTA-FEIRA     1413\n",
       "TERCA-FEIRA      1402\n",
       "SEXTA-FEIRA      1285\n",
       "SABADO            258\n",
       "DOMINGO           231\n",
       "Name: weekday, dtype: int64"
      ]
     },
     "execution_count": 128,
     "metadata": {},
     "output_type": "execute_result"
    }
   ],
   "source": [
    "df.weekday.value_counts()"
   ]
  },
  {
   "cell_type": "code",
   "execution_count": 129,
   "id": "blank-source",
   "metadata": {},
   "outputs": [
    {
     "data": {
      "text/html": [
       "<div>\n",
       "<style scoped>\n",
       "    .dataframe tbody tr th:only-of-type {\n",
       "        vertical-align: middle;\n",
       "    }\n",
       "\n",
       "    .dataframe tbody tr th {\n",
       "        vertical-align: top;\n",
       "    }\n",
       "\n",
       "    .dataframe thead th {\n",
       "        text-align: right;\n",
       "    }\n",
       "</style>\n",
       "<table border=\"1\" class=\"dataframe\">\n",
       "  <thead>\n",
       "    <tr style=\"text-align: right;\">\n",
       "      <th>answered</th>\n",
       "      <th>0</th>\n",
       "      <th>1</th>\n",
       "    </tr>\n",
       "    <tr>\n",
       "      <th>weekday</th>\n",
       "      <th></th>\n",
       "      <th></th>\n",
       "    </tr>\n",
       "  </thead>\n",
       "  <tbody>\n",
       "    <tr>\n",
       "      <th>DOMINGO</th>\n",
       "      <td>85</td>\n",
       "      <td>146</td>\n",
       "    </tr>\n",
       "    <tr>\n",
       "      <th>QUARTA-FEIRA</th>\n",
       "      <td>468</td>\n",
       "      <td>1022</td>\n",
       "    </tr>\n",
       "    <tr>\n",
       "      <th>QUINTA-FEIRA</th>\n",
       "      <td>461</td>\n",
       "      <td>952</td>\n",
       "    </tr>\n",
       "    <tr>\n",
       "      <th>SABADO</th>\n",
       "      <td>89</td>\n",
       "      <td>169</td>\n",
       "    </tr>\n",
       "    <tr>\n",
       "      <th>SEGUNDA-FEIRA</th>\n",
       "      <td>480</td>\n",
       "      <td>957</td>\n",
       "    </tr>\n",
       "    <tr>\n",
       "      <th>SEXTA-FEIRA</th>\n",
       "      <td>422</td>\n",
       "      <td>863</td>\n",
       "    </tr>\n",
       "    <tr>\n",
       "      <th>TERCA-FEIRA</th>\n",
       "      <td>436</td>\n",
       "      <td>966</td>\n",
       "    </tr>\n",
       "  </tbody>\n",
       "</table>\n",
       "</div>"
      ],
      "text/plain": [
       "answered         0     1\n",
       "weekday                 \n",
       "DOMINGO         85   146\n",
       "QUARTA-FEIRA   468  1022\n",
       "QUINTA-FEIRA   461   952\n",
       "SABADO          89   169\n",
       "SEGUNDA-FEIRA  480   957\n",
       "SEXTA-FEIRA    422   863\n",
       "TERCA-FEIRA    436   966"
      ]
     },
     "execution_count": 129,
     "metadata": {},
     "output_type": "execute_result"
    }
   ],
   "source": [
    "pd.crosstab(df.weekday, df[\"answered\"])"
   ]
  },
  {
   "cell_type": "code",
   "execution_count": 130,
   "id": "absent-assault",
   "metadata": {},
   "outputs": [
    {
     "data": {
      "image/png": "[encoded data removed]",
      "text/plain": [
       "<Figure size 720x432 with 1 Axes>"
      ]
     },
     "metadata": {
      "needs_background": "light"
     },
     "output_type": "display_data"
    }
   ],
   "source": [
    "# Make the crosstab more visual\n",
    "pd.crosstab(df.weekday, df[\"answered\"]).plot(kind=\"bar\",\n",
    "                                   figsize=(10, 6),\n",
    "                                   color =[\"salmon\", \"lightblue\"])\n",
    "\n",
    "# Add some communication\n",
    "plt.title(\"Answered Frequency Per weekday\")\n",
    "plt.xlabel(\"Weekday\")\n",
    "plt.ylabel(\"Amount\")\n",
    "plt.legend([\"No Answered\", \"Answered\"])\n",
    "plt.xticks(rotation = 0);"
   ]
  },
  {
   "cell_type": "code",
   "execution_count": 131,
   "id": "acquired-virgin",
   "metadata": {},
   "outputs": [
    {
     "data": {
      "image/png": "[encoded data removed]",
      "text/plain": [
       "<Figure size 720x432 with 1 Axes>"
      ]
     },
     "metadata": {
      "needs_background": "light"
     },
     "output_type": "display_data"
    }
   ],
   "source": [
    "# Make the crosstab more visual\n",
    "pd.crosstab(df[\"salary_interval\"], df[\"answered\"]).plot(kind=\"bar\",\n",
    "                                   figsize=(10, 6),\n",
    "                                   color =[\"salmon\", \"lightblue\"])\n",
    "\n",
    "# Add some communication\n",
    "plt.title(\"answered Per salary_interval\")\n",
    "plt.xlabel(\"salary_interval\")\n",
    "plt.ylabel(\"Amount\")\n",
    "plt.legend([\"No  answered\", \"answered\"])\n",
    "plt.xticks(rotation = 0);"
   ]
  },
  {
   "cell_type": "code",
   "execution_count": 132,
   "id": "supposed-danger",
   "metadata": {},
   "outputs": [
    {
     "data": {
      "text/plain": [
       "<AxesSubplot:ylabel='Frequency'>"
      ]
     },
     "execution_count": 132,
     "metadata": {},
     "output_type": "execute_result"
    },
    {
     "data": {
      "image/png": "[encoded data removed]",
      "text/plain": [
       "<Figure size 432x288 with 1 Axes>"
      ]
     },
     "metadata": {
      "needs_background": "light"
     },
     "output_type": "display_data"
    }
   ],
   "source": [
    "df.hour.plot.hist()"
   ]
  },
  {
   "cell_type": "code",
   "execution_count": 133,
   "id": "unlikely-retreat",
   "metadata": {},
   "outputs": [
    {
     "data": {
      "image/png": "[encoded data removed]",
      "text/plain": [
       "<Figure size 2160x432 with 1 Axes>"
      ]
     },
     "metadata": {
      "needs_background": "light"
     },
     "output_type": "display_data"
    }
   ],
   "source": [
    "# Make the crosstab more visual\n",
    "pd.crosstab(df.hour, df[\"answered\"]).plot(kind=\"bar\",\n",
    "                                   figsize=(30, 6),\n",
    "                                   color =[\"salmon\", \"lightblue\"])\n",
    "\n",
    "# Add some communication\n",
    "plt.title(\"answered Per hour\")\n",
    "plt.xlabel(\"hour\")\n",
    "plt.ylabel(\"Amount\")\n",
    "plt.legend([\"No  answered\", \"answered\"])\n",
    "plt.xticks(rotation = 0);"
   ]
  },
  {
   "cell_type": "markdown",
   "id": "romantic-competition",
   "metadata": {},
   "source": [
    "## Age vs. weekday for answered"
   ]
  },
  {
   "cell_type": "code",
   "execution_count": 134,
   "id": "opening-decade",
   "metadata": {},
   "outputs": [
    {
     "data": {
      "image/png": "[encoded data removed]",
      "text/plain": [
       "<Figure size 720x432 with 1 Axes>"
      ]
     },
     "metadata": {
      "needs_background": "light"
     },
     "output_type": "display_data"
    }
   ],
   "source": [
    "# Create another figure\n",
    "plt.figure(figsize=(10, 6))\n",
    "\n",
    "# Scatter with postive examples\n",
    "plt.scatter(df.age[df[\"answered\"] == 1],\n",
    "            df.hour[df[\"answered\"]==1],\n",
    "            c=\"salmon\")\n",
    "\n",
    "# Scatter with negative examples\n",
    "plt.scatter(df.age[df[\"answered\"]==0],\n",
    "            df.hour[df[\"answered\"]==0],\n",
    "            c=\"lightblue\")\n",
    "# Add some helpful info\n",
    "plt.title(\"Answered in function of Age and Hour\")\n",
    "plt.xlabel(\"Age\")\n",
    "plt.ylabel(\" Hour\")\n",
    "plt.legend([\"Answered\", \"No Answered\"]);"
   ]
  },
  {
   "cell_type": "code",
   "execution_count": 152,
   "id": "furnished-tongue",
   "metadata": {},
   "outputs": [
    {
     "data": {
      "text/plain": [
       "(4.5, -0.5)"
      ]
     },
     "execution_count": 152,
     "metadata": {},
     "output_type": "execute_result"
    },
    {
     "data": {
      "image/png": "[encoded data removed]",
      "text/plain": [
       "<Figure size 1080x720 with 2 Axes>"
      ]
     },
     "metadata": {
      "needs_background": "light"
     },
     "output_type": "display_data"
    }
   ],
   "source": [
    "# Let's make our correlation matrix a little prettier\n",
    "corr_matrix = df.corr()\n",
    "fig, ax = plt.subplots(figsize=(15, 10))\n",
    "ax = sns.heatmap(corr_matrix,\n",
    "                 annot=True,\n",
    "                 linewidths=0.5,\n",
    "                 fmt=\".2f\",\n",
    "                 cmap=\"YlGnBu\");\n",
    "bottom, top = ax.get_ylim()\n",
    "ax.set_ylim(bottom + 0.5, top -0.5 )"
   ]
  },
  {
   "cell_type": "code",
   "execution_count": 135,
   "id": "underlying-division",
   "metadata": {},
   "outputs": [],
   "source": [
    "#"
   ]
  },
  {
   "cell_type": "code",
   "execution_count": 136,
   "id": "sorted-process",
   "metadata": {},
   "outputs": [
    {
     "name": "stderr",
     "output_type": "stream",
     "text": [
      "<ipython-input-136-a3b8110ec1a7>:20: SettingWithCopyWarning: \n",
      "A value is trying to be set on a copy of a slice from a DataFrame.\n",
      "Try using .loc[row_indexer,col_indexer] = value instead\n",
      "\n",
      "See the caveats in the documentation: https://pandas.pydata.org/pandas-docs/stable/user_guide/indexing.html#returning-a-view-versus-a-copy\n",
      "  X_train[\"location\"] = X_train['location'].fillna(X_train['location'].mode()[0])\n",
      "<ipython-input-136-a3b8110ec1a7>:22: SettingWithCopyWarning: \n",
      "A value is trying to be set on a copy of a slice from a DataFrame.\n",
      "Try using .loc[row_indexer,col_indexer] = value instead\n",
      "\n",
      "See the caveats in the documentation: https://pandas.pydata.org/pandas-docs/stable/user_guide/indexing.html#returning-a-view-versus-a-copy\n",
      "  X_train[\"marital_status\"] = X_train[\"marital_status\"].fillna(X_train[\"marital_status\"].mode()[0])\n",
      "<ipython-input-136-a3b8110ec1a7>:24: SettingWithCopyWarning: \n",
      "A value is trying to be set on a copy of a slice from a DataFrame.\n",
      "Try using .loc[row_indexer,col_indexer] = value instead\n",
      "\n",
      "See the caveats in the documentation: https://pandas.pydata.org/pandas-docs/stable/user_guide/indexing.html#returning-a-view-versus-a-copy\n",
      "  X_test[\"location\"] = X_test['location'].fillna(X_train['location'].mode()[0])\n",
      "<ipython-input-136-a3b8110ec1a7>:26: SettingWithCopyWarning: \n",
      "A value is trying to be set on a copy of a slice from a DataFrame.\n",
      "Try using .loc[row_indexer,col_indexer] = value instead\n",
      "\n",
      "See the caveats in the documentation: https://pandas.pydata.org/pandas-docs/stable/user_guide/indexing.html#returning-a-view-versus-a-copy\n",
      "  X_test[\"marital_status\"] = X_test[\"marital_status\"].fillna(X_test[\"marital_status\"].mode()[0])\n"
     ]
    }
   ],
   "source": [
    "from  sklearn.model_selection import train_test_split\n",
    "\n",
    "# Split into X & y\n",
    "\n",
    "X = df.drop([\"answered\", \"date\"], axis=1)\n",
    "\n",
    "y= df[\"answered\"]\n",
    "\n",
    "\n",
    "\n",
    "# Split data into train and test\n",
    "\n",
    "\n",
    "np.random.seed(42)\n",
    "\n",
    "X_train, X_test, y_train, y_test = train_test_split(X,\n",
    "                                                    y,\n",
    "                                                    test_size=0.2)\n",
    "\n",
    "X_train[\"location\"] = X_train['location'].fillna(X_train['location'].mode()[0])\n",
    "\n",
    "X_train[\"marital_status\"] = X_train[\"marital_status\"].fillna(X_train[\"marital_status\"].mode()[0])\n",
    "\n",
    "X_test[\"location\"] = X_test['location'].fillna(X_train['location'].mode()[0])\n",
    "\n",
    "X_test[\"marital_status\"] = X_test[\"marital_status\"].fillna(X_train[\"marital_status\"].mode()[0])\n"
   ]
  },
  {
   "cell_type": "code",
   "execution_count": 137,
   "id": "polyphonic-worse",
   "metadata": {},
   "outputs": [
    {
     "data": {
      "text/plain": [
       "(6012, 1504)"
      ]
     },
     "execution_count": 137,
     "metadata": {},
     "output_type": "execute_result"
    }
   ],
   "source": [
    "len(X_train), len(X_test)"
   ]
  },
  {
   "cell_type": "code",
   "execution_count": 138,
   "id": "numerical-military",
   "metadata": {},
   "outputs": [
    {
     "data": {
      "text/html": [
       "<div>\n",
       "<style scoped>\n",
       "    .dataframe tbody tr th:only-of-type {\n",
       "        vertical-align: middle;\n",
       "    }\n",
       "\n",
       "    .dataframe tbody tr th {\n",
       "        vertical-align: top;\n",
       "    }\n",
       "\n",
       "    .dataframe thead th {\n",
       "        text-align: right;\n",
       "    }\n",
       "</style>\n",
       "<table border=\"1\" class=\"dataframe\">\n",
       "  <thead>\n",
       "    <tr style=\"text-align: right;\">\n",
       "      <th></th>\n",
       "      <th>age</th>\n",
       "      <th>marital_status</th>\n",
       "      <th>location</th>\n",
       "      <th>salary_interval</th>\n",
       "      <th>active_portfolio</th>\n",
       "      <th>month</th>\n",
       "      <th>weekday</th>\n",
       "      <th>hour</th>\n",
       "    </tr>\n",
       "  </thead>\n",
       "  <tbody>\n",
       "    <tr>\n",
       "      <th>4596</th>\n",
       "      <td>71</td>\n",
       "      <td>CASADO REG COMUNHAO ADQUIRIDOS</td>\n",
       "      <td>PORTO</td>\n",
       "      <td>0</td>\n",
       "      <td>0.00</td>\n",
       "      <td>JULHO</td>\n",
       "      <td>TERCA-FEIRA</td>\n",
       "      <td>13</td>\n",
       "    </tr>\n",
       "    <tr>\n",
       "      <th>3809</th>\n",
       "      <td>41</td>\n",
       "      <td>CASADO REG COMUNHAO ADQUIRIDOS</td>\n",
       "      <td>SANTAREM</td>\n",
       "      <td>500-999</td>\n",
       "      <td>84738.58</td>\n",
       "      <td>JUNHO</td>\n",
       "      <td>QUARTA-FEIRA</td>\n",
       "      <td>9</td>\n",
       "    </tr>\n",
       "    <tr>\n",
       "      <th>7032</th>\n",
       "      <td>44</td>\n",
       "      <td>DIVORCIADO</td>\n",
       "      <td>SETUBAL</td>\n",
       "      <td>1000-1499</td>\n",
       "      <td>8123.77</td>\n",
       "      <td>DEZEMBRO</td>\n",
       "      <td>SEXTA-FEIRA</td>\n",
       "      <td>13</td>\n",
       "    </tr>\n",
       "    <tr>\n",
       "      <th>5627</th>\n",
       "      <td>41</td>\n",
       "      <td>SOLTEIRO</td>\n",
       "      <td>LEIRIA</td>\n",
       "      <td>1000-1499</td>\n",
       "      <td>84701.61</td>\n",
       "      <td>OUTUBRO</td>\n",
       "      <td>TERCA-FEIRA</td>\n",
       "      <td>16</td>\n",
       "    </tr>\n",
       "    <tr>\n",
       "      <th>3666</th>\n",
       "      <td>27</td>\n",
       "      <td>SOLTEIRO</td>\n",
       "      <td>COIMBRA</td>\n",
       "      <td>0</td>\n",
       "      <td>0.00</td>\n",
       "      <td>NOVEMBRO</td>\n",
       "      <td>TERCA-FEIRA</td>\n",
       "      <td>16</td>\n",
       "    </tr>\n",
       "  </tbody>\n",
       "</table>\n",
       "</div>"
      ],
      "text/plain": [
       "      age                  marital_status  location salary_interval  \\\n",
       "4596   71  CASADO REG COMUNHAO ADQUIRIDOS     PORTO               0   \n",
       "3809   41  CASADO REG COMUNHAO ADQUIRIDOS  SANTAREM         500-999   \n",
       "7032   44  DIVORCIADO                       SETUBAL       1000-1499   \n",
       "5627   41  SOLTEIRO                          LEIRIA       1000-1499   \n",
       "3666   27  SOLTEIRO                         COIMBRA               0   \n",
       "\n",
       "      active_portfolio     month       weekday  hour  \n",
       "4596              0.00     JULHO   TERCA-FEIRA    13  \n",
       "3809          84738.58     JUNHO  QUARTA-FEIRA     9  \n",
       "7032           8123.77  DEZEMBRO   SEXTA-FEIRA    13  \n",
       "5627          84701.61   OUTUBRO   TERCA-FEIRA    16  \n",
       "3666              0.00  NOVEMBRO   TERCA-FEIRA    16  "
      ]
     },
     "execution_count": 138,
     "metadata": {},
     "output_type": "execute_result"
    }
   ],
   "source": [
    "X_train"
   ]
  },
  {
   "cell_type": "code",
   "execution_count": 139,
   "id": "clear-bailey",
   "metadata": {},
   "outputs": [
    {
     "data": {
      "text/plain": [
       "age                 0\n",
       "marital_status      0\n",
       "location            0\n",
       "salary_interval     0\n",
       "active_portfolio    0\n",
       "month               0\n",
       "weekday             0\n",
       "hour                0\n",
       "dtype: int64"
      ]
     },
     "execution_count": 139,
     "metadata": {},
     "output_type": "execute_result"
    }
   ],
   "source": [
    "X_train.isna().sum()"
   ]
  },
  {
   "cell_type": "code",
   "execution_count": 140,
   "id": "geological-parcel",
   "metadata": {},
   "outputs": [
    {
     "data": {
      "text/plain": [
       "age                 0\n",
       "marital_status      0\n",
       "location            0\n",
       "salary_interval     0\n",
       "active_portfolio    0\n",
       "month               0\n",
       "weekday             0\n",
       "hour                0\n",
       "dtype: int64"
      ]
     },
     "execution_count": 140,
     "metadata": {},
     "output_type": "execute_result"
    }
   ],
   "source": [
    "X_test.isna().sum()"
   ]
  },
  {
   "cell_type": "code",
   "execution_count": 91,
   "id": "creative-serum",
   "metadata": {},
   "outputs": [
    {
     "data": {
      "text/plain": [
       "Index(['age', 'marital_status', 'location', 'salary_interval',\n",
       "       'active_portfolio', 'month', 'weekday', 'hour'],\n",
       "      dtype='object')"
      ]
     },
     "execution_count": 91,
     "metadata": {},
     "output_type": "execute_result"
    }
   ],
   "source": [
    "X.columns"
   ]
  },
  {
   "cell_type": "code",
   "execution_count": 93,
   "id": "strategic-andrew",
   "metadata": {},
   "outputs": [
    {
     "data": {
      "text/plain": [
       "age                   int64\n",
       "marital_status       object\n",
       "location             object\n",
       "salary_interval      object\n",
       "active_portfolio    float64\n",
       "month                object\n",
       "weekday              object\n",
       "hour                  int64\n",
       "dtype: object"
      ]
     },
     "execution_count": 93,
     "metadata": {},
     "output_type": "execute_result"
    }
   ],
   "source": [
    "X.dtypes"
   ]
  },
  {
   "cell_type": "code",
   "execution_count": 141,
   "id": "looking-meeting",
   "metadata": {},
   "outputs": [
    {
     "data": {
      "text/plain": [
       "array([[0.000000e+00, 1.000000e+00, 0.000000e+00, ..., 7.100000e+01,\n",
       "        0.000000e+00, 1.300000e+01],\n",
       "       [0.000000e+00, 1.000000e+00, 0.000000e+00, ..., 4.100000e+01,\n",
       "        8.473858e+04, 9.000000e+00],\n",
       "       [0.000000e+00, 0.000000e+00, 0.000000e+00, ..., 4.400000e+01,\n",
       "        8.123770e+03, 1.300000e+01],\n",
       "       ...,\n",
       "       [0.000000e+00, 0.000000e+00, 0.000000e+00, ..., 5.600000e+01,\n",
       "        3.473936e+04, 1.400000e+01],\n",
       "       [0.000000e+00, 1.000000e+00, 0.000000e+00, ..., 5.700000e+01,\n",
       "        9.085754e+04, 1.300000e+01],\n",
       "       [0.000000e+00, 0.000000e+00, 0.000000e+00, ..., 3.100000e+01,\n",
       "        0.000000e+00, 2.300000e+01]])"
      ]
     },
     "execution_count": 141,
     "metadata": {},
     "output_type": "execute_result"
    }
   ],
   "source": [
    "# Import OneHotEncoder class from sklearn\n",
    "from sklearn.preprocessing import OneHotEncoder\n",
    "\n",
    "\n",
    "# Now let's one hot encode the features with the same code as before\n",
    "\n",
    "categorical_features = [\"marital_status\", \"location\", \"salary_interval\", \"month\", \"weekday\"]\n",
    "\n",
    "one_hot = OneHotEncoder()\n",
    "\n",
    "transformer = ColumnTransformer([(\"one_hot\",\n",
    "                                  one_hot,\n",
    "                                  categorical_features)],\n",
    "                                  remainder =\"passthrough\")\n",
    "\n",
    "\n",
    "# Fill train and test values separately\n",
    "\n",
    "transformed_X_train = transformer.fit_transform(X_train)# fit and transform the training data\n",
    "\n",
    "transformed_X_test = transformer.transform(X_test)# transform the test data\n",
    "\n",
    "\n",
    "# Check transformed and filled X_train\n",
    "\n",
    "transformed_X_train.toarray()"
   ]
  },
  {
   "cell_type": "code",
   "execution_count": 143,
   "id": "shaped-dancing",
   "metadata": {},
   "outputs": [
    {
     "data": {
      "text/plain": [
       "<6012x59 sparse matrix of type '<class 'numpy.float64'>'\n",
       "\twith 44240 stored elements in Compressed Sparse Row format>"
      ]
     },
     "execution_count": 143,
     "metadata": {},
     "output_type": "execute_result"
    }
   ],
   "source": [
    "transformed_X_train"
   ]
  },
  {
   "cell_type": "code",
   "execution_count": 142,
   "id": "vital-array",
   "metadata": {},
   "outputs": [],
   "source": [
    "# Put models in a dictionary\n",
    "models = {\"Logistic Regression\": LogisticRegression(max_iter=1000),\n",
    "          \"KNN\": KNeighborsClassifier(),\n",
    "          \"Random Forest\": RandomForestClassifier()}\n",
    "# Create a function to fit and score models\n",
    "def fit_and_score(models, x_train, x_test, y_train, y_test):\n",
    "    \"\"\"\n",
    "    Fits and evaluates given machine learning models.\n",
    "    models: a dict of different Scikit-learn machine learning models\n",
    "    x_train: training data (no labels)\n",
    "    x_test: testing data (no labels)\n",
    "    y_train: training labels\n",
    "    y_test: test labels\n",
    "    \n",
    "    \"\"\"\n",
    "    # Set random seed\n",
    "    np.random.seed(42)\n",
    "    # make a dictionary to keep model scores\n",
    "    model_scores = {}\n",
    "    # Loop through models\n",
    "    \n",
    "    for name, model in models.items():\n",
    "        # Fit the model to the data\n",
    "        model.fit(x_train, y_train)\n",
    "        # Evaluate the model and append its score to model_scores\n",
    "        # creamos una llave en el diccionari ode modelos \n",
    "        model_scores[name] = model.score(x_test, y_test)\n",
    "    return model_scores"
   ]
  },
  {
   "cell_type": "code",
   "execution_count": 145,
   "id": "bacterial-explosion",
   "metadata": {},
   "outputs": [
    {
     "data": {
      "text/plain": [
       "(4596    0\n",
       " 3809    1\n",
       " 7032    0\n",
       " 5627    0\n",
       " 3666    0\n",
       "        ..\n",
       " 5191    0\n",
       " 5226    1\n",
       " 5390    1\n",
       " 860     1\n",
       " 7270    1\n",
       " Name: answered, Length: 6012, dtype: int64,\n",
       " 6823    0\n",
       " 5610    1\n",
       " 4689    1\n",
       " 1055    1\n",
       " 4816    1\n",
       "        ..\n",
       " 2268    0\n",
       " 2835    1\n",
       " 3078    1\n",
       " 2338    1\n",
       " 6364    0\n",
       " Name: answered, Length: 1504, dtype: int64)"
      ]
     },
     "execution_count": 145,
     "metadata": {},
     "output_type": "execute_result"
    }
   ],
   "source": [
    "y_train, y_test"
   ]
  },
  {
   "cell_type": "code",
   "execution_count": 146,
   "id": "positive-trailer",
   "metadata": {},
   "outputs": [
    {
     "data": {
      "text/plain": [
       "{'Logistic Regression': 0.6742021276595744,\n",
       " 'KNN': 0.7014627659574468,\n",
       " 'Random Forest': 0.7347074468085106}"
      ]
     },
     "execution_count": 146,
     "metadata": {},
     "output_type": "execute_result"
    }
   ],
   "source": [
    "model_scores = fit_and_score(models=models,\n",
    "                             x_train= transformed_X_train,\n",
    "                             x_test=transformed_X_test,\n",
    "                             y_train=y_train,\n",
    "                             y_test=y_test)\n",
    "model_scores"
   ]
  },
  {
   "cell_type": "code",
   "execution_count": 147,
   "id": "permanent-melbourne",
   "metadata": {},
   "outputs": [
    {
     "data": {
      "text/plain": [
       "<AxesSubplot:>"
      ]
     },
     "execution_count": 147,
     "metadata": {},
     "output_type": "execute_result"
    },
    {
     "data": {
      "image/png": "[encoded data removed]",
      "text/plain": [
       "<Figure size 432x288 with 1 Axes>"
      ]
     },
     "metadata": {
      "needs_background": "light"
     },
     "output_type": "display_data"
    }
   ],
   "source": [
    "model_compare= pd.DataFrame(model_scores, index=[\"accuracy\"])\n",
    "model_compare.T.plot.bar()"
   ]
  },
  {
   "cell_type": "markdown",
   "id": "antique-suspect",
   "metadata": {},
   "source": [
    "## Now we've a baseline model ... and we know a model's first predictions aren't always what we should based our next steps off. What should do ?\n",
    "\n",
    "Let's look at the following:\n",
    "\n",
    "* Hyperparameter tunning\n",
    "* Feature importance\n",
    "* Confusion matrix\n",
    "* Cross-validation\n",
    "* Precision\n",
    "* Recall\n",
    "* F1 score\n",
    "* Classification report\n",
    "* ROC curve\n",
    "* Area under the curve (AUC)"
   ]
  },
  {
   "cell_type": "markdown",
   "id": "derived-image",
   "metadata": {},
   "source": [
    "## Hyperparameter tunning wiht RandomizedSearchCV\n",
    "\n"
   ]
  },
  {
   "cell_type": "code",
   "execution_count": 148,
   "id": "initial-rolling",
   "metadata": {},
   "outputs": [],
   "source": [
    "# Create a hyperparameter grid for RandomForestClassifier\n",
    "rf_grid = {\"n_estimators\":np.arange(10, 1000, 50),\n",
    "           \"max_depth\": [None, 3, 5, 10],\n",
    "           \"min_samples_split\":np.arange(2, 20, 2),\n",
    "           \"min_samples_leaf\": np.arange(1, 20, 2)}"
   ]
  },
  {
   "cell_type": "code",
   "execution_count": 149,
   "id": "aware-sharing",
   "metadata": {},
   "outputs": [
    {
     "name": "stdout",
     "output_type": "stream",
     "text": [
      "Fitting 5 folds for each of 20 candidates, totalling 100 fits\n"
     ]
    },
    {
     "name": "stderr",
     "output_type": "stream",
     "text": [
      "[Parallel(n_jobs=1)]: Using backend SequentialBackend with 1 concurrent workers.\n",
      "[Parallel(n_jobs=1)]: Done 100 out of 100 | elapsed: 13.4min finished\n"
     ]
    },
    {
     "data": {
      "text/plain": [
       "RandomizedSearchCV(cv=5, estimator=RandomForestClassifier(), n_iter=20,\n",
       "                   param_distributions={'max_depth': [None, 3, 5, 10],\n",
       "                                        'min_samples_leaf': array([ 1,  3,  5,  7,  9, 11, 13, 15, 17, 19]),\n",
       "                                        'min_samples_split': array([ 2,  4,  6,  8, 10, 12, 14, 16, 18]),\n",
       "                                        'n_estimators': array([ 10,  60, 110, 160, 210, 260, 310, 360, 410, 460, 510, 560, 610,\n",
       "       660, 710, 760, 810, 860, 910, 960])},\n",
       "                   verbose=True)"
      ]
     },
     "execution_count": 149,
     "metadata": {},
     "output_type": "execute_result"
    }
   ],
   "source": [
    "# Setup random seed\n",
    "np.random.seed(42)\n",
    "\n",
    "# Setup random Hyperparameter search for RandomForestClassifier\n",
    "rs_rf = RandomizedSearchCV(RandomForestClassifier(),\n",
    "                           param_distributions=rf_grid,\n",
    "                           cv=5,\n",
    "                           n_iter=20,\n",
    "                           verbose = True)\n",
    "# Fit random hyperparameter search model for RandomForestClassifier()\n",
    "rs_rf.fit(transformed_X_train, y_train)     "
   ]
  },
  {
   "cell_type": "code",
   "execution_count": 150,
   "id": "brazilian-silly",
   "metadata": {},
   "outputs": [
    {
     "data": {
      "text/plain": [
       "{'n_estimators': 510,\n",
       " 'min_samples_split': 14,\n",
       " 'min_samples_leaf': 1,\n",
       " 'max_depth': None}"
      ]
     },
     "execution_count": 150,
     "metadata": {},
     "output_type": "execute_result"
    }
   ],
   "source": [
    "# Find the best hyperparameters\n",
    "rs_rf.best_params_"
   ]
  },
  {
   "cell_type": "code",
   "execution_count": 151,
   "id": "lucky-location",
   "metadata": {},
   "outputs": [
    {
     "data": {
      "text/plain": [
       "0.7287234042553191"
      ]
     },
     "execution_count": 151,
     "metadata": {},
     "output_type": "execute_result"
    }
   ],
   "source": [
    "# Evaluate the randomized search RandomForestClassifier model \n",
    "rs_rf.score(transformed_X_test, y_test)"
   ]
  },
  {
   "cell_type": "markdown",
   "id": "baking-assembly",
   "metadata": {},
   "source": [
    "## Evaluating our tunned machine learning classifier, beyond accuracy\n",
    "* ROC curve and AUC score\n",
    "\n",
    "* Confusion matrix\n",
    "\n",
    "* Classification report\n",
    "\n",
    "* Precision\n",
    "\n",
    "* F1-score\n",
    "\n",
    "... and it would be great if cross-validation was used where possible.\n",
    "\n",
    "To make comparisons and evaluate our trained model, first we need to make predictions."
   ]
  },
  {
   "cell_type": "code",
   "execution_count": 154,
   "id": "aggregate-spending",
   "metadata": {},
   "outputs": [],
   "source": [
    "# Make predictions with tuned model\n",
    "y_preds = rs_rf.predict(transformed_X_test)"
   ]
  },
  {
   "cell_type": "code",
   "execution_count": 155,
   "id": "backed-introduction",
   "metadata": {},
   "outputs": [
    {
     "data": {
      "text/plain": [
       "array([1, 1, 1, ..., 1, 1, 1], dtype=int64)"
      ]
     },
     "execution_count": 155,
     "metadata": {},
     "output_type": "execute_result"
    }
   ],
   "source": [
    "y_preds"
   ]
  },
  {
   "cell_type": "code",
   "execution_count": 156,
   "id": "touched-berry",
   "metadata": {},
   "outputs": [
    {
     "data": {
      "text/plain": [
       "6823    0\n",
       "5610    1\n",
       "4689    1\n",
       "1055    1\n",
       "4816    1\n",
       "       ..\n",
       "2268    0\n",
       "2835    1\n",
       "3078    1\n",
       "2338    1\n",
       "6364    0\n",
       "Name: answered, Length: 1504, dtype: int64"
      ]
     },
     "execution_count": 156,
     "metadata": {},
     "output_type": "execute_result"
    }
   ],
   "source": [
    "y_test"
   ]
  },
  {
   "cell_type": "code",
   "execution_count": 157,
   "id": "smaller-starter",
   "metadata": {},
   "outputs": [
    {
     "data": {
      "text/plain": [
       "<sklearn.metrics._plot.roc_curve.RocCurveDisplay at 0x1ba776b9f40>"
      ]
     },
     "execution_count": 157,
     "metadata": {},
     "output_type": "execute_result"
    },
    {
     "data": {
      "image/png": "[encoded data removed]",
      "text/plain": [
       "<Figure size 432x288 with 1 Axes>"
      ]
     },
     "metadata": {
      "needs_background": "light"
     },
     "output_type": "display_data"
    }
   ],
   "source": [
    "# PLot ROC curve and calculate AUC metric\n",
    "plot_roc_curve( rs_rf, transformed_X_test, y_test)"
   ]
  },
  {
   "cell_type": "code",
   "execution_count": 158,
   "id": "applicable-network",
   "metadata": {},
   "outputs": [
    {
     "data": {
      "text/plain": [
       "array([[173, 317],\n",
       "       [ 91, 923]], dtype=int64)"
      ]
     },
     "execution_count": 158,
     "metadata": {},
     "output_type": "execute_result"
    }
   ],
   "source": [
    "# Confusion matrix\n",
    "confusion_matrix(y_test, y_preds)"
   ]
  },
  {
   "cell_type": "code",
   "execution_count": 159,
   "id": "assured-chrome",
   "metadata": {},
   "outputs": [
    {
     "data": {
      "image/png": "[encoded data removed]",
      "text/plain": [
       "<Figure size 216x216 with 1 Axes>"
      ]
     },
     "metadata": {},
     "output_type": "display_data"
    }
   ],
   "source": [
    "# Increase font size\n",
    "sns.set(font_scale=1.5)\n",
    "def plot_conf_mat(y_test, y_preds):\n",
    "    \"\"\"\n",
    "    Plot a confusion matrix using Seaborn's heatmap().\n",
    "    \n",
    "    \"\"\"\n",
    "    fig, ax = plt.subplots(figsize=(3, 3))\n",
    "    \n",
    "    ax = sns.heatmap(confusion_matrix(y_test, y_preds),\n",
    "                     # annotate the boxes\n",
    "                     annot=True,\n",
    "                     cbar=False)\n",
    "    # predictions go on the x-axis\n",
    "    plt.xlabel(\"Predicted label\")\n",
    "    # True labels go on the y-axis\n",
    "    plt.ylabel(\"True label\")\n",
    "    bottom, top = ax.get_ylim()\n",
    "    #ax.set_ylim(bottom + 0.5, top - 0.5)\n",
    "    \n",
    "plot_conf_mat(y_test,y_preds)"
   ]
  },
  {
   "cell_type": "code",
   "execution_count": 160,
   "id": "impossible-resort",
   "metadata": {},
   "outputs": [
    {
     "name": "stdout",
     "output_type": "stream",
     "text": [
      "              precision    recall  f1-score   support\n",
      "\n",
      "           0       0.66      0.35      0.46       490\n",
      "           1       0.74      0.91      0.82      1014\n",
      "\n",
      "    accuracy                           0.73      1504\n",
      "   macro avg       0.70      0.63      0.64      1504\n",
      "weighted avg       0.72      0.73      0.70      1504\n",
      "\n"
     ]
    }
   ],
   "source": [
    "print(classification_report(y_test, y_preds))"
   ]
  },
  {
   "cell_type": "markdown",
   "id": "sixth-radio",
   "metadata": {},
   "source": [
    "## Calculate evaluation metrics using cross-validation\n",
    "\n",
    "rs_rf.best_params_\n"
   ]
  },
  {
   "cell_type": "code",
   "execution_count": 161,
   "id": "electric-jersey",
   "metadata": {},
   "outputs": [
    {
     "data": {
      "text/plain": [
       "{'n_estimators': 510,\n",
       " 'min_samples_split': 14,\n",
       " 'min_samples_leaf': 1,\n",
       " 'max_depth': None}"
      ]
     },
     "execution_count": 161,
     "metadata": {},
     "output_type": "execute_result"
    }
   ],
   "source": [
    "rs_rf.best_params_"
   ]
  },
  {
   "cell_type": "code",
   "execution_count": 163,
   "id": "demanding-casting",
   "metadata": {},
   "outputs": [],
   "source": [
    "# Create a new classifier with the best parameters\n",
    "clf = RandomForestClassifier(n_estimators=510, min_samples_split = 14, min_samples_leaf=1, max_depth=None)"
   ]
  },
  {
   "cell_type": "code",
   "execution_count": 164,
   "id": "electric-ordinance",
   "metadata": {},
   "outputs": [],
   "source": [
    "X = df.drop([\"answered\", \"date\"], axis=1)\n",
    "\n",
    "y= df[\"answered\"]\n",
    "\n",
    "X[\"location\"] = X['location'].fillna(X['location'].mode()[0])\n",
    "\n",
    "X[\"marital_status\"] = X[\"marital_status\"].fillna(X[\"marital_status\"].mode()[0])"
   ]
  },
  {
   "cell_type": "code",
   "execution_count": 165,
   "id": "traditional-citation",
   "metadata": {},
   "outputs": [
    {
     "data": {
      "text/html": [
       "<div>\n",
       "<style scoped>\n",
       "    .dataframe tbody tr th:only-of-type {\n",
       "        vertical-align: middle;\n",
       "    }\n",
       "\n",
       "    .dataframe tbody tr th {\n",
       "        vertical-align: top;\n",
       "    }\n",
       "\n",
       "    .dataframe thead th {\n",
       "        text-align: right;\n",
       "    }\n",
       "</style>\n",
       "<table border=\"1\" class=\"dataframe\">\n",
       "  <thead>\n",
       "    <tr style=\"text-align: right;\">\n",
       "      <th></th>\n",
       "      <th>age</th>\n",
       "      <th>marital_status</th>\n",
       "      <th>location</th>\n",
       "      <th>salary_interval</th>\n",
       "      <th>active_portfolio</th>\n",
       "      <th>month</th>\n",
       "      <th>weekday</th>\n",
       "      <th>hour</th>\n",
       "    </tr>\n",
       "  </thead>\n",
       "  <tbody>\n",
       "    <tr>\n",
       "      <th>0</th>\n",
       "      <td>53</td>\n",
       "      <td>CASADO REG COMUNHAO ADQUIRIDOS</td>\n",
       "      <td>LISBOA</td>\n",
       "      <td>0</td>\n",
       "      <td>25735.05</td>\n",
       "      <td>DEZEMBRO</td>\n",
       "      <td>QUINTA-FEIRA</td>\n",
       "      <td>13</td>\n",
       "    </tr>\n",
       "    <tr>\n",
       "      <th>1</th>\n",
       "      <td>53</td>\n",
       "      <td>CASADO REG COMUNHAO ADQUIRIDOS</td>\n",
       "      <td>LISBOA</td>\n",
       "      <td>0</td>\n",
       "      <td>25735.05</td>\n",
       "      <td>MARCO</td>\n",
       "      <td>SEGUNDA-FEIRA</td>\n",
       "      <td>12</td>\n",
       "    </tr>\n",
       "    <tr>\n",
       "      <th>2</th>\n",
       "      <td>53</td>\n",
       "      <td>CASADO REG COMUNHAO ADQUIRIDOS</td>\n",
       "      <td>LISBOA</td>\n",
       "      <td>0</td>\n",
       "      <td>25735.05</td>\n",
       "      <td>MARCO</td>\n",
       "      <td>SEGUNDA-FEIRA</td>\n",
       "      <td>9</td>\n",
       "    </tr>\n",
       "    <tr>\n",
       "      <th>3</th>\n",
       "      <td>53</td>\n",
       "      <td>CASADO REG COMUNHAO ADQUIRIDOS</td>\n",
       "      <td>LISBOA</td>\n",
       "      <td>0</td>\n",
       "      <td>25735.05</td>\n",
       "      <td>NOVEMBRO</td>\n",
       "      <td>TERCA-FEIRA</td>\n",
       "      <td>11</td>\n",
       "    </tr>\n",
       "    <tr>\n",
       "      <th>4</th>\n",
       "      <td>53</td>\n",
       "      <td>CASADO REG COMUNHAO ADQUIRIDOS</td>\n",
       "      <td>LISBOA</td>\n",
       "      <td>0</td>\n",
       "      <td>25735.05</td>\n",
       "      <td>NOVEMBRO</td>\n",
       "      <td>SABADO</td>\n",
       "      <td>15</td>\n",
       "    </tr>\n",
       "  </tbody>\n",
       "</table>\n",
       "</div>"
      ],
      "text/plain": [
       "   age                  marital_status location salary_interval  \\\n",
       "0   53  CASADO REG COMUNHAO ADQUIRIDOS   LISBOA               0   \n",
       "1   53  CASADO REG COMUNHAO ADQUIRIDOS   LISBOA               0   \n",
       "2   53  CASADO REG COMUNHAO ADQUIRIDOS   LISBOA               0   \n",
       "3   53  CASADO REG COMUNHAO ADQUIRIDOS   LISBOA               0   \n",
       "4   53  CASADO REG COMUNHAO ADQUIRIDOS   LISBOA               0   \n",
       "\n",
       "   active_portfolio     month        weekday  hour  \n",
       "0          25735.05  DEZEMBRO   QUINTA-FEIRA    13  \n",
       "1          25735.05     MARCO  SEGUNDA-FEIRA    12  \n",
       "2          25735.05     MARCO  SEGUNDA-FEIRA     9  \n",
       "3          25735.05  NOVEMBRO    TERCA-FEIRA    11  \n",
       "4          25735.05  NOVEMBRO         SABADO    15  "
      ]
     },
     "execution_count": 165,
     "metadata": {},
     "output_type": "execute_result"
    }
   ],
   "source": [
    "X.head()"
   ]
  },
  {
   "cell_type": "code",
   "execution_count": 166,
   "id": "accessory-london",
   "metadata": {},
   "outputs": [
    {
     "data": {
      "text/plain": [
       "age                 0\n",
       "marital_status      0\n",
       "location            0\n",
       "salary_interval     0\n",
       "active_portfolio    0\n",
       "month               0\n",
       "weekday             0\n",
       "hour                0\n",
       "dtype: int64"
      ]
     },
     "execution_count": 166,
     "metadata": {},
     "output_type": "execute_result"
    }
   ],
   "source": [
    "X.isna().sum()"
   ]
  },
  {
   "cell_type": "code",
   "execution_count": 168,
   "id": "accessible-beaver",
   "metadata": {},
   "outputs": [
    {
     "data": {
      "text/plain": [
       "array([[0.000000e+00, 1.000000e+00, 0.000000e+00, ..., 5.300000e+01,\n",
       "        2.573505e+04, 1.300000e+01],\n",
       "       [0.000000e+00, 1.000000e+00, 0.000000e+00, ..., 5.300000e+01,\n",
       "        2.573505e+04, 1.200000e+01],\n",
       "       [0.000000e+00, 1.000000e+00, 0.000000e+00, ..., 5.300000e+01,\n",
       "        2.573505e+04, 9.000000e+00],\n",
       "       ...,\n",
       "       [0.000000e+00, 1.000000e+00, 0.000000e+00, ..., 5.700000e+01,\n",
       "        0.000000e+00, 1.500000e+01],\n",
       "       [0.000000e+00, 1.000000e+00, 0.000000e+00, ..., 5.700000e+01,\n",
       "        0.000000e+00, 1.700000e+01],\n",
       "       [0.000000e+00, 1.000000e+00, 0.000000e+00, ..., 5.700000e+01,\n",
       "        0.000000e+00, 1.600000e+01]])"
      ]
     },
     "execution_count": 168,
     "metadata": {},
     "output_type": "execute_result"
    }
   ],
   "source": [
    "# Import OneHotEncoder class from sklearn\n",
    "from sklearn.preprocessing import OneHotEncoder\n",
    "\n",
    "\n",
    "# Now let's one hot encode the features with the same code as before\n",
    "\n",
    "categorical_features = [\"marital_status\", \"location\", \"salary_interval\", \"month\", \"weekday\"]\n",
    "\n",
    "one_hot = OneHotEncoder()\n",
    "\n",
    "transformer = ColumnTransformer([(\"one_hot\",\n",
    "                                  one_hot,\n",
    "                                  categorical_features)],\n",
    "                                  remainder =\"passthrough\")\n",
    "\n",
    "\n",
    "# Fill train and test values separately\n",
    "\n",
    "transformed_X = transformer.fit_transform(X)# fit and transform the training data\n",
    "\n",
    "\n",
    "# Check transformed and filled X_train\n",
    "\n",
    "transformed_X.toarray()"
   ]
  },
  {
   "cell_type": "code",
   "execution_count": 173,
   "id": "treated-linux",
   "metadata": {},
   "outputs": [
    {
     "data": {
      "text/plain": [
       "0.6675119618918193"
      ]
     },
     "execution_count": 173,
     "metadata": {},
     "output_type": "execute_result"
    }
   ],
   "source": [
    "# Cross-validated accuracy\n",
    "\n",
    "np.random.seed(42)\n",
    "cv_acc = cross_val_score(clf,\n",
    "                         transformed_X,\n",
    "                         y,\n",
    "                         cv=5,\n",
    "                         scoring=\"accuracy\")\n",
    "cv_acc=np.mean(cv_acc)\n",
    "cv_acc"
   ]
  },
  {
   "cell_type": "code",
   "execution_count": 174,
   "id": "surprised-biography",
   "metadata": {},
   "outputs": [
    {
     "data": {
      "text/plain": [
       "0.792618154327013"
      ]
     },
     "execution_count": 174,
     "metadata": {},
     "output_type": "execute_result"
    }
   ],
   "source": [
    "# Cross-validated f1\n",
    "np.random.seed(42)\n",
    "\n",
    "cv_f1 = cross_val_score(clf,\n",
    "                         transformed_X,\n",
    "                         y,\n",
    "                         cv=5,\n",
    "                         scoring=\"f1\")\n",
    "cv_f1= np.mean(cv_f1)\n",
    "cv_f1"
   ]
  },
  {
   "cell_type": "code",
   "execution_count": 175,
   "id": "powerful-hostel",
   "metadata": {},
   "outputs": [
    {
     "data": {
      "text/plain": [
       "0.685218397106984"
      ]
     },
     "execution_count": 175,
     "metadata": {},
     "output_type": "execute_result"
    }
   ],
   "source": [
    "# Cross-validated presicion\n",
    "\n",
    "np.random.seed(42)\n",
    "\n",
    "cv_precision = cross_val_score(clf,\n",
    "                         transformed_X,\n",
    "                         y,\n",
    "                         cv=5,\n",
    "                         scoring=\"precision\")\n",
    "cv_precision=np.mean(cv_precision)\n",
    "cv_precision"
   ]
  },
  {
   "cell_type": "code",
   "execution_count": 177,
   "id": "focal-passing",
   "metadata": {},
   "outputs": [
    {
     "data": {
      "text/plain": [
       "0.9395073891625616"
      ]
     },
     "execution_count": 177,
     "metadata": {},
     "output_type": "execute_result"
    }
   ],
   "source": [
    "# Cross-validated recall\n",
    "\n",
    "\n",
    "cv_recall = cross_val_score(clf,\n",
    "                         transformed_X,\n",
    "                         y,\n",
    "                         cv=5,\n",
    "                         scoring=\"recall\")\n",
    "cv_recall= np.mean(cv_recall)\n",
    "cv_recall"
   ]
  },
  {
   "cell_type": "code",
   "execution_count": 178,
   "id": "velvet-cigarette",
   "metadata": {},
   "outputs": [],
   "source": [
    "# Visualize cross-validated metrics\n",
    "\n",
    "cv_metrics=  pd.DataFrame({\"Accuracy\": cv_acc,\n",
    "                           \"Precision\": cv_precision,\n",
    "                           \"Recall\": cv_recall,\n",
    "                           \"F1\":cv_f1},\n",
    "                          index=[0])"
   ]
  },
  {
   "cell_type": "code",
   "execution_count": 179,
   "id": "false-lover",
   "metadata": {},
   "outputs": [
    {
     "data": {
      "image/png": "[encoded data removed]",
      "text/plain": [
       "<Figure size 432x288 with 1 Axes>"
      ]
     },
     "metadata": {},
     "output_type": "display_data"
    }
   ],
   "source": [
    "cv_metrics.T.plot.bar(title=\"Cross-validated classification metrics\",\n",
    "                           legend = False);"
   ]
  },
  {
   "cell_type": "code",
   "execution_count": 180,
   "id": "stone-bones",
   "metadata": {},
   "outputs": [
    {
     "data": {
      "text/plain": [
       "['./fullvenue/gs_random_forest_clf_model_1.joblib']"
      ]
     },
     "execution_count": 180,
     "metadata": {},
     "output_type": "execute_result"
    }
   ],
   "source": [
    "# Save model to file\n",
    "from joblib import dump, load\n",
    "dump(clf, filename=\"./fullvenue/gs_random_forest_clf_model_1.joblib\")"
   ]
  },
  {
   "cell_type": "code",
   "execution_count": 181,
   "id": "continental-spending",
   "metadata": {},
   "outputs": [],
   "source": [
    "# Import a saved joblib model\n",
    "\n",
    "\n",
    "loaded_job_model = load(filename=\"./fullvenue/gs_random_forest_clf_model_1.joblib\")"
   ]
  },
  {
   "cell_type": "markdown",
   "id": "diverse-blair",
   "metadata": {},
   "source": [
    "## Test"
   ]
  },
  {
   "cell_type": "code",
   "execution_count": 183,
   "id": "russian-cathedral",
   "metadata": {},
   "outputs": [
    {
     "data": {
      "text/html": [
       "<div>\n",
       "<style scoped>\n",
       "    .dataframe tbody tr th:only-of-type {\n",
       "        vertical-align: middle;\n",
       "    }\n",
       "\n",
       "    .dataframe tbody tr th {\n",
       "        vertical-align: top;\n",
       "    }\n",
       "\n",
       "    .dataframe thead th {\n",
       "        text-align: right;\n",
       "    }\n",
       "</style>\n",
       "<table border=\"1\" class=\"dataframe\">\n",
       "  <thead>\n",
       "    <tr style=\"text-align: right;\">\n",
       "      <th></th>\n",
       "      <th>age</th>\n",
       "      <th>marital_status</th>\n",
       "      <th>location</th>\n",
       "      <th>salary_interval</th>\n",
       "      <th>active_portfolio</th>\n",
       "      <th>date</th>\n",
       "      <th>month</th>\n",
       "      <th>weekday</th>\n",
       "      <th>hour</th>\n",
       "      <th>answered</th>\n",
       "    </tr>\n",
       "  </thead>\n",
       "  <tbody>\n",
       "    <tr>\n",
       "      <th>0</th>\n",
       "      <td>53</td>\n",
       "      <td>CASADO REG COMUNHAO ADQUIRIDOS</td>\n",
       "      <td>LISBOA</td>\n",
       "      <td>0</td>\n",
       "      <td>25735.05</td>\n",
       "      <td>03/12/2020</td>\n",
       "      <td>DEZEMBRO</td>\n",
       "      <td>QUINTA-FEIRA</td>\n",
       "      <td>13</td>\n",
       "      <td>1</td>\n",
       "    </tr>\n",
       "    <tr>\n",
       "      <th>1</th>\n",
       "      <td>53</td>\n",
       "      <td>CASADO REG COMUNHAO ADQUIRIDOS</td>\n",
       "      <td>LISBOA</td>\n",
       "      <td>0</td>\n",
       "      <td>25735.05</td>\n",
       "      <td>23/03/2020</td>\n",
       "      <td>MARCO</td>\n",
       "      <td>SEGUNDA-FEIRA</td>\n",
       "      <td>12</td>\n",
       "      <td>1</td>\n",
       "    </tr>\n",
       "    <tr>\n",
       "      <th>2</th>\n",
       "      <td>53</td>\n",
       "      <td>CASADO REG COMUNHAO ADQUIRIDOS</td>\n",
       "      <td>LISBOA</td>\n",
       "      <td>0</td>\n",
       "      <td>25735.05</td>\n",
       "      <td>30/03/2020</td>\n",
       "      <td>MARCO</td>\n",
       "      <td>SEGUNDA-FEIRA</td>\n",
       "      <td>9</td>\n",
       "      <td>1</td>\n",
       "    </tr>\n",
       "    <tr>\n",
       "      <th>3</th>\n",
       "      <td>53</td>\n",
       "      <td>CASADO REG COMUNHAO ADQUIRIDOS</td>\n",
       "      <td>LISBOA</td>\n",
       "      <td>0</td>\n",
       "      <td>25735.05</td>\n",
       "      <td>03/11/2020</td>\n",
       "      <td>NOVEMBRO</td>\n",
       "      <td>TERCA-FEIRA</td>\n",
       "      <td>11</td>\n",
       "      <td>1</td>\n",
       "    </tr>\n",
       "    <tr>\n",
       "      <th>4</th>\n",
       "      <td>53</td>\n",
       "      <td>CASADO REG COMUNHAO ADQUIRIDOS</td>\n",
       "      <td>LISBOA</td>\n",
       "      <td>0</td>\n",
       "      <td>25735.05</td>\n",
       "      <td>21/11/2020</td>\n",
       "      <td>NOVEMBRO</td>\n",
       "      <td>SABADO</td>\n",
       "      <td>15</td>\n",
       "      <td>1</td>\n",
       "    </tr>\n",
       "    <tr>\n",
       "      <th>...</th>\n",
       "      <td>...</td>\n",
       "      <td>...</td>\n",
       "      <td>...</td>\n",
       "      <td>...</td>\n",
       "      <td>...</td>\n",
       "      <td>...</td>\n",
       "      <td>...</td>\n",
       "      <td>...</td>\n",
       "      <td>...</td>\n",
       "      <td>...</td>\n",
       "    </tr>\n",
       "    <tr>\n",
       "      <th>7511</th>\n",
       "      <td>33</td>\n",
       "      <td>UNIDO DE FACTO</td>\n",
       "      <td>SANTAREM</td>\n",
       "      <td>0</td>\n",
       "      <td>0.00</td>\n",
       "      <td>28/10/2020</td>\n",
       "      <td>OUTUBRO</td>\n",
       "      <td>QUARTA-FEIRA</td>\n",
       "      <td>14</td>\n",
       "      <td>1</td>\n",
       "    </tr>\n",
       "    <tr>\n",
       "      <th>7512</th>\n",
       "      <td>57</td>\n",
       "      <td>CASADO REG COMUNHAO ADQUIRIDOS</td>\n",
       "      <td>NaN</td>\n",
       "      <td>0</td>\n",
       "      <td>0.00</td>\n",
       "      <td>03/12/2020</td>\n",
       "      <td>DEZEMBRO</td>\n",
       "      <td>QUINTA-FEIRA</td>\n",
       "      <td>16</td>\n",
       "      <td>1</td>\n",
       "    </tr>\n",
       "    <tr>\n",
       "      <th>7513</th>\n",
       "      <td>57</td>\n",
       "      <td>CASADO REG COMUNHAO ADQUIRIDOS</td>\n",
       "      <td>NaN</td>\n",
       "      <td>0</td>\n",
       "      <td>0.00</td>\n",
       "      <td>17/12/2020</td>\n",
       "      <td>DEZEMBRO</td>\n",
       "      <td>QUINTA-FEIRA</td>\n",
       "      <td>15</td>\n",
       "      <td>0</td>\n",
       "    </tr>\n",
       "    <tr>\n",
       "      <th>7514</th>\n",
       "      <td>57</td>\n",
       "      <td>CASADO REG COMUNHAO ADQUIRIDOS</td>\n",
       "      <td>NaN</td>\n",
       "      <td>0</td>\n",
       "      <td>0.00</td>\n",
       "      <td>30/11/2020</td>\n",
       "      <td>NOVEMBRO</td>\n",
       "      <td>SEGUNDA-FEIRA</td>\n",
       "      <td>17</td>\n",
       "      <td>1</td>\n",
       "    </tr>\n",
       "    <tr>\n",
       "      <th>7515</th>\n",
       "      <td>57</td>\n",
       "      <td>CASADO REG COMUNHAO ADQUIRIDOS</td>\n",
       "      <td>NaN</td>\n",
       "      <td>0</td>\n",
       "      <td>0.00</td>\n",
       "      <td>03/12/2020</td>\n",
       "      <td>DEZEMBRO</td>\n",
       "      <td>QUINTA-FEIRA</td>\n",
       "      <td>16</td>\n",
       "      <td>1</td>\n",
       "    </tr>\n",
       "  </tbody>\n",
       "</table>\n",
       "<p>7516 rows × 10 columns</p>\n",
       "</div>"
      ],
      "text/plain": [
       "      age                  marital_status  location salary_interval  \\\n",
       "0      53  CASADO REG COMUNHAO ADQUIRIDOS    LISBOA               0   \n",
       "1      53  CASADO REG COMUNHAO ADQUIRIDOS    LISBOA               0   \n",
       "2      53  CASADO REG COMUNHAO ADQUIRIDOS    LISBOA               0   \n",
       "3      53  CASADO REG COMUNHAO ADQUIRIDOS    LISBOA               0   \n",
       "4      53  CASADO REG COMUNHAO ADQUIRIDOS    LISBOA               0   \n",
       "...   ...                             ...       ...             ...   \n",
       "7511   33  UNIDO DE FACTO                  SANTAREM               0   \n",
       "7512   57  CASADO REG COMUNHAO ADQUIRIDOS       NaN               0   \n",
       "7513   57  CASADO REG COMUNHAO ADQUIRIDOS       NaN               0   \n",
       "7514   57  CASADO REG COMUNHAO ADQUIRIDOS       NaN               0   \n",
       "7515   57  CASADO REG COMUNHAO ADQUIRIDOS       NaN               0   \n",
       "\n",
       "      active_portfolio        date     month        weekday  hour  answered  \n",
       "0             25735.05  03/12/2020  DEZEMBRO   QUINTA-FEIRA    13         1  \n",
       "1             25735.05  23/03/2020     MARCO  SEGUNDA-FEIRA    12         1  \n",
       "2             25735.05  30/03/2020     MARCO  SEGUNDA-FEIRA     9         1  \n",
       "3             25735.05  03/11/2020  NOVEMBRO    TERCA-FEIRA    11         1  \n",
       "4             25735.05  21/11/2020  NOVEMBRO         SABADO    15         1  \n",
       "...                ...         ...       ...            ...   ...       ...  \n",
       "7511              0.00  28/10/2020   OUTUBRO   QUARTA-FEIRA    14         1  \n",
       "7512              0.00  03/12/2020  DEZEMBRO   QUINTA-FEIRA    16         1  \n",
       "7513              0.00  17/12/2020  DEZEMBRO   QUINTA-FEIRA    15         0  \n",
       "7514              0.00  30/11/2020  NOVEMBRO  SEGUNDA-FEIRA    17         1  \n",
       "7515              0.00  03/12/2020  DEZEMBRO   QUINTA-FEIRA    16         1  \n",
       "\n",
       "[7516 rows x 10 columns]"
      ]
     },
     "execution_count": 183,
     "metadata": {},
     "output_type": "execute_result"
    }
   ],
   "source": [
    "df"
   ]
  },
  {
   "cell_type": "code",
   "execution_count": 182,
   "id": "reverse-removal",
   "metadata": {},
   "outputs": [
    {
     "data": {
      "text/html": [
       "<div>\n",
       "<style scoped>\n",
       "    .dataframe tbody tr th:only-of-type {\n",
       "        vertical-align: middle;\n",
       "    }\n",
       "\n",
       "    .dataframe tbody tr th {\n",
       "        vertical-align: top;\n",
       "    }\n",
       "\n",
       "    .dataframe thead th {\n",
       "        text-align: right;\n",
       "    }\n",
       "</style>\n",
       "<table border=\"1\" class=\"dataframe\">\n",
       "  <thead>\n",
       "    <tr style=\"text-align: right;\">\n",
       "      <th></th>\n",
       "      <th>n_cliente</th>\n",
       "      <th>age</th>\n",
       "      <th>marital_status</th>\n",
       "      <th>location</th>\n",
       "      <th>salary_interval</th>\n",
       "      <th>active_portfolio</th>\n",
       "      <th>month</th>\n",
       "      <th>week_day</th>\n",
       "      <th>hour</th>\n",
       "      <th>answered</th>\n",
       "    </tr>\n",
       "  </thead>\n",
       "  <tbody>\n",
       "    <tr>\n",
       "      <th>0</th>\n",
       "      <td>1ca382fb705349feac5a7004d95cc653</td>\n",
       "      <td>36</td>\n",
       "      <td>SOLTEIRO</td>\n",
       "      <td>LISBOA</td>\n",
       "      <td>1000-1499</td>\n",
       "      <td>82311.12</td>\n",
       "      <td>JUNHO</td>\n",
       "      <td>DOMINGO</td>\n",
       "      <td>8</td>\n",
       "      <td>NaN</td>\n",
       "    </tr>\n",
       "    <tr>\n",
       "      <th>1</th>\n",
       "      <td>6849fe25a3224da4afc81248c6bcd5e9</td>\n",
       "      <td>48</td>\n",
       "      <td>CASADO REG COMUNHAO ADQUIRIDOS</td>\n",
       "      <td>SANTAREM</td>\n",
       "      <td>1000-1499</td>\n",
       "      <td>0.00</td>\n",
       "      <td>ABRIL</td>\n",
       "      <td>QUARTA-FEIRA</td>\n",
       "      <td>13</td>\n",
       "      <td>NaN</td>\n",
       "    </tr>\n",
       "    <tr>\n",
       "      <th>2</th>\n",
       "      <td>4694534a1101482b927c45d08d44e4b3</td>\n",
       "      <td>67</td>\n",
       "      <td>CASADO REG COMUNHAO ADQUIRIDOS</td>\n",
       "      <td>LISBOA</td>\n",
       "      <td>1000-1499</td>\n",
       "      <td>13028.96</td>\n",
       "      <td>MARCO</td>\n",
       "      <td>SEGUNDA-FEIRA</td>\n",
       "      <td>11</td>\n",
       "      <td>NaN</td>\n",
       "    </tr>\n",
       "    <tr>\n",
       "      <th>3</th>\n",
       "      <td>951582be2c1a4394abd5908329338bf8</td>\n",
       "      <td>35</td>\n",
       "      <td>SOLTEIRO</td>\n",
       "      <td>LISBOA</td>\n",
       "      <td>2000-2499</td>\n",
       "      <td>94843.20</td>\n",
       "      <td>NOVEMBRO</td>\n",
       "      <td>QUARTA-FEIRA</td>\n",
       "      <td>11</td>\n",
       "      <td>NaN</td>\n",
       "    </tr>\n",
       "  </tbody>\n",
       "</table>\n",
       "</div>"
      ],
      "text/plain": [
       "                          n_cliente  age                  marital_status  \\\n",
       "0  1ca382fb705349feac5a7004d95cc653   36  SOLTEIRO                         \n",
       "1  6849fe25a3224da4afc81248c6bcd5e9   48  CASADO REG COMUNHAO ADQUIRIDOS   \n",
       "2  4694534a1101482b927c45d08d44e4b3   67  CASADO REG COMUNHAO ADQUIRIDOS   \n",
       "3  951582be2c1a4394abd5908329338bf8   35  SOLTEIRO                         \n",
       "\n",
       "   location salary_interval  active_portfolio     month       week_day  hour  \\\n",
       "0    LISBOA       1000-1499          82311.12     JUNHO        DOMINGO     8   \n",
       "1  SANTAREM       1000-1499              0.00     ABRIL   QUARTA-FEIRA    13   \n",
       "2    LISBOA       1000-1499          13028.96     MARCO  SEGUNDA-FEIRA    11   \n",
       "3    LISBOA       2000-2499          94843.20  NOVEMBRO   QUARTA-FEIRA    11   \n",
       "\n",
       "   answered  \n",
       "0       NaN  \n",
       "1       NaN  \n",
       "2       NaN  \n",
       "3       NaN  "
      ]
     },
     "execution_count": 182,
     "metadata": {},
     "output_type": "execute_result"
    }
   ],
   "source": [
    "df_test = pd.read_csv(\"./fullvenue/test.csv\")\n",
    "df_test.head()"
   ]
  },
  {
   "cell_type": "code",
   "execution_count": 225,
   "id": "accompanied-saudi",
   "metadata": {},
   "outputs": [],
   "source": [
    "#car_sales = car_sales.rename(columns = {\"Odometer (KM)\": \"Odometer (Miles)\"})\n",
    "df_test = df_test.rename(columns = {\"week_day\": \"weekday\"})"
   ]
  },
  {
   "cell_type": "code",
   "execution_count": 226,
   "id": "collective-indiana",
   "metadata": {},
   "outputs": [
    {
     "data": {
      "text/html": [
       "<div>\n",
       "<style scoped>\n",
       "    .dataframe tbody tr th:only-of-type {\n",
       "        vertical-align: middle;\n",
       "    }\n",
       "\n",
       "    .dataframe tbody tr th {\n",
       "        vertical-align: top;\n",
       "    }\n",
       "\n",
       "    .dataframe thead th {\n",
       "        text-align: right;\n",
       "    }\n",
       "</style>\n",
       "<table border=\"1\" class=\"dataframe\">\n",
       "  <thead>\n",
       "    <tr style=\"text-align: right;\">\n",
       "      <th></th>\n",
       "      <th>n_cliente</th>\n",
       "      <th>age</th>\n",
       "      <th>marital_status</th>\n",
       "      <th>location</th>\n",
       "      <th>salary_interval</th>\n",
       "      <th>active_portfolio</th>\n",
       "      <th>month</th>\n",
       "      <th>weekday</th>\n",
       "      <th>hour</th>\n",
       "    </tr>\n",
       "  </thead>\n",
       "  <tbody>\n",
       "    <tr>\n",
       "      <th>0</th>\n",
       "      <td>1ca382fb705349feac5a7004d95cc653</td>\n",
       "      <td>36</td>\n",
       "      <td>SOLTEIRO</td>\n",
       "      <td>LISBOA</td>\n",
       "      <td>1000-1499</td>\n",
       "      <td>82311.12</td>\n",
       "      <td>JUNHO</td>\n",
       "      <td>DOMINGO</td>\n",
       "      <td>8</td>\n",
       "    </tr>\n",
       "    <tr>\n",
       "      <th>1</th>\n",
       "      <td>6849fe25a3224da4afc81248c6bcd5e9</td>\n",
       "      <td>48</td>\n",
       "      <td>CASADO REG COMUNHAO ADQUIRIDOS</td>\n",
       "      <td>SANTAREM</td>\n",
       "      <td>1000-1499</td>\n",
       "      <td>0.00</td>\n",
       "      <td>ABRIL</td>\n",
       "      <td>QUARTA-FEIRA</td>\n",
       "      <td>13</td>\n",
       "    </tr>\n",
       "    <tr>\n",
       "      <th>2</th>\n",
       "      <td>4694534a1101482b927c45d08d44e4b3</td>\n",
       "      <td>67</td>\n",
       "      <td>CASADO REG COMUNHAO ADQUIRIDOS</td>\n",
       "      <td>LISBOA</td>\n",
       "      <td>1000-1499</td>\n",
       "      <td>13028.96</td>\n",
       "      <td>MARCO</td>\n",
       "      <td>SEGUNDA-FEIRA</td>\n",
       "      <td>11</td>\n",
       "    </tr>\n",
       "    <tr>\n",
       "      <th>3</th>\n",
       "      <td>951582be2c1a4394abd5908329338bf8</td>\n",
       "      <td>35</td>\n",
       "      <td>SOLTEIRO</td>\n",
       "      <td>LISBOA</td>\n",
       "      <td>2000-2499</td>\n",
       "      <td>94843.20</td>\n",
       "      <td>NOVEMBRO</td>\n",
       "      <td>QUARTA-FEIRA</td>\n",
       "      <td>11</td>\n",
       "    </tr>\n",
       "  </tbody>\n",
       "</table>\n",
       "</div>"
      ],
      "text/plain": [
       "                          n_cliente  age                  marital_status  \\\n",
       "0  1ca382fb705349feac5a7004d95cc653   36  SOLTEIRO                         \n",
       "1  6849fe25a3224da4afc81248c6bcd5e9   48  CASADO REG COMUNHAO ADQUIRIDOS   \n",
       "2  4694534a1101482b927c45d08d44e4b3   67  CASADO REG COMUNHAO ADQUIRIDOS   \n",
       "3  951582be2c1a4394abd5908329338bf8   35  SOLTEIRO                         \n",
       "\n",
       "   location salary_interval  active_portfolio     month        weekday  hour  \n",
       "0    LISBOA       1000-1499          82311.12     JUNHO        DOMINGO     8  \n",
       "1  SANTAREM       1000-1499              0.00     ABRIL   QUARTA-FEIRA    13  \n",
       "2    LISBOA       1000-1499          13028.96     MARCO  SEGUNDA-FEIRA    11  \n",
       "3    LISBOA       2000-2499          94843.20  NOVEMBRO   QUARTA-FEIRA    11  "
      ]
     },
     "execution_count": 226,
     "metadata": {},
     "output_type": "execute_result"
    }
   ],
   "source": [
    "X_test_final = df_test.drop([\"answered\"], axis=1)\n",
    "\n",
    "X_test_final.head()"
   ]
  },
  {
   "cell_type": "code",
   "execution_count": 227,
   "id": "former-truth",
   "metadata": {},
   "outputs": [
    {
     "data": {
      "text/plain": [
       "n_cliente           0\n",
       "age                 0\n",
       "marital_status      0\n",
       "location            0\n",
       "salary_interval     0\n",
       "active_portfolio    0\n",
       "month               0\n",
       "weekday             0\n",
       "hour                0\n",
       "dtype: int64"
      ]
     },
     "execution_count": 227,
     "metadata": {},
     "output_type": "execute_result"
    }
   ],
   "source": [
    "X_test_final.isna().sum()"
   ]
  },
  {
   "cell_type": "code",
   "execution_count": 228,
   "id": "curious-spoke",
   "metadata": {},
   "outputs": [
    {
     "data": {
      "text/html": [
       "<div>\n",
       "<style scoped>\n",
       "    .dataframe tbody tr th:only-of-type {\n",
       "        vertical-align: middle;\n",
       "    }\n",
       "\n",
       "    .dataframe tbody tr th {\n",
       "        vertical-align: top;\n",
       "    }\n",
       "\n",
       "    .dataframe thead th {\n",
       "        text-align: right;\n",
       "    }\n",
       "</style>\n",
       "<table border=\"1\" class=\"dataframe\">\n",
       "  <thead>\n",
       "    <tr style=\"text-align: right;\">\n",
       "      <th></th>\n",
       "      <th>age</th>\n",
       "      <th>marital_status</th>\n",
       "      <th>location</th>\n",
       "      <th>salary_interval</th>\n",
       "      <th>active_portfolio</th>\n",
       "      <th>month</th>\n",
       "      <th>weekday</th>\n",
       "      <th>hour</th>\n",
       "    </tr>\n",
       "  </thead>\n",
       "  <tbody>\n",
       "    <tr>\n",
       "      <th>0</th>\n",
       "      <td>36</td>\n",
       "      <td>SOLTEIRO</td>\n",
       "      <td>LISBOA</td>\n",
       "      <td>1000-1499</td>\n",
       "      <td>82311.12</td>\n",
       "      <td>JUNHO</td>\n",
       "      <td>DOMINGO</td>\n",
       "      <td>8</td>\n",
       "    </tr>\n",
       "    <tr>\n",
       "      <th>1</th>\n",
       "      <td>48</td>\n",
       "      <td>CASADO REG COMUNHAO ADQUIRIDOS</td>\n",
       "      <td>SANTAREM</td>\n",
       "      <td>1000-1499</td>\n",
       "      <td>0.00</td>\n",
       "      <td>ABRIL</td>\n",
       "      <td>QUARTA-FEIRA</td>\n",
       "      <td>13</td>\n",
       "    </tr>\n",
       "    <tr>\n",
       "      <th>2</th>\n",
       "      <td>67</td>\n",
       "      <td>CASADO REG COMUNHAO ADQUIRIDOS</td>\n",
       "      <td>LISBOA</td>\n",
       "      <td>1000-1499</td>\n",
       "      <td>13028.96</td>\n",
       "      <td>MARCO</td>\n",
       "      <td>SEGUNDA-FEIRA</td>\n",
       "      <td>11</td>\n",
       "    </tr>\n",
       "    <tr>\n",
       "      <th>3</th>\n",
       "      <td>35</td>\n",
       "      <td>SOLTEIRO</td>\n",
       "      <td>LISBOA</td>\n",
       "      <td>2000-2499</td>\n",
       "      <td>94843.20</td>\n",
       "      <td>NOVEMBRO</td>\n",
       "      <td>QUARTA-FEIRA</td>\n",
       "      <td>11</td>\n",
       "    </tr>\n",
       "  </tbody>\n",
       "</table>\n",
       "</div>"
      ],
      "text/plain": [
       "   age                  marital_status  location salary_interval  \\\n",
       "0   36  SOLTEIRO                          LISBOA       1000-1499   \n",
       "1   48  CASADO REG COMUNHAO ADQUIRIDOS  SANTAREM       1000-1499   \n",
       "2   67  CASADO REG COMUNHAO ADQUIRIDOS    LISBOA       1000-1499   \n",
       "3   35  SOLTEIRO                          LISBOA       2000-2499   \n",
       "\n",
       "   active_portfolio     month        weekday  hour  \n",
       "0          82311.12     JUNHO        DOMINGO     8  \n",
       "1              0.00     ABRIL   QUARTA-FEIRA    13  \n",
       "2          13028.96     MARCO  SEGUNDA-FEIRA    11  \n",
       "3          94843.20  NOVEMBRO   QUARTA-FEIRA    11  "
      ]
     },
     "execution_count": 228,
     "metadata": {},
     "output_type": "execute_result"
    }
   ],
   "source": [
    "X_test_final = X_test_final.drop([\"n_cliente\"], axis=1)\n",
    "\n",
    "X_test_final.head()"
   ]
  },
  {
   "cell_type": "code",
   "execution_count": 229,
   "id": "meaningful-charm",
   "metadata": {},
   "outputs": [
    {
     "data": {
      "text/html": [
       "<div>\n",
       "<style scoped>\n",
       "    .dataframe tbody tr th:only-of-type {\n",
       "        vertical-align: middle;\n",
       "    }\n",
       "\n",
       "    .dataframe tbody tr th {\n",
       "        vertical-align: top;\n",
       "    }\n",
       "\n",
       "    .dataframe thead th {\n",
       "        text-align: right;\n",
       "    }\n",
       "</style>\n",
       "<table border=\"1\" class=\"dataframe\">\n",
       "  <thead>\n",
       "    <tr style=\"text-align: right;\">\n",
       "      <th></th>\n",
       "      <th>age</th>\n",
       "      <th>marital_status</th>\n",
       "      <th>location</th>\n",
       "      <th>salary_interval</th>\n",
       "      <th>active_portfolio</th>\n",
       "      <th>month</th>\n",
       "      <th>weekday</th>\n",
       "      <th>hour</th>\n",
       "    </tr>\n",
       "  </thead>\n",
       "  <tbody>\n",
       "    <tr>\n",
       "      <th>0</th>\n",
       "      <td>53</td>\n",
       "      <td>CASADO REG COMUNHAO ADQUIRIDOS</td>\n",
       "      <td>LISBOA</td>\n",
       "      <td>0</td>\n",
       "      <td>25735.05</td>\n",
       "      <td>DEZEMBRO</td>\n",
       "      <td>QUINTA-FEIRA</td>\n",
       "      <td>13</td>\n",
       "    </tr>\n",
       "    <tr>\n",
       "      <th>1</th>\n",
       "      <td>53</td>\n",
       "      <td>CASADO REG COMUNHAO ADQUIRIDOS</td>\n",
       "      <td>LISBOA</td>\n",
       "      <td>0</td>\n",
       "      <td>25735.05</td>\n",
       "      <td>MARCO</td>\n",
       "      <td>SEGUNDA-FEIRA</td>\n",
       "      <td>12</td>\n",
       "    </tr>\n",
       "    <tr>\n",
       "      <th>2</th>\n",
       "      <td>53</td>\n",
       "      <td>CASADO REG COMUNHAO ADQUIRIDOS</td>\n",
       "      <td>LISBOA</td>\n",
       "      <td>0</td>\n",
       "      <td>25735.05</td>\n",
       "      <td>MARCO</td>\n",
       "      <td>SEGUNDA-FEIRA</td>\n",
       "      <td>9</td>\n",
       "    </tr>\n",
       "    <tr>\n",
       "      <th>3</th>\n",
       "      <td>53</td>\n",
       "      <td>CASADO REG COMUNHAO ADQUIRIDOS</td>\n",
       "      <td>LISBOA</td>\n",
       "      <td>0</td>\n",
       "      <td>25735.05</td>\n",
       "      <td>NOVEMBRO</td>\n",
       "      <td>TERCA-FEIRA</td>\n",
       "      <td>11</td>\n",
       "    </tr>\n",
       "    <tr>\n",
       "      <th>4</th>\n",
       "      <td>53</td>\n",
       "      <td>CASADO REG COMUNHAO ADQUIRIDOS</td>\n",
       "      <td>LISBOA</td>\n",
       "      <td>0</td>\n",
       "      <td>25735.05</td>\n",
       "      <td>NOVEMBRO</td>\n",
       "      <td>SABADO</td>\n",
       "      <td>15</td>\n",
       "    </tr>\n",
       "  </tbody>\n",
       "</table>\n",
       "</div>"
      ],
      "text/plain": [
       "   age                  marital_status location salary_interval  \\\n",
       "0   53  CASADO REG COMUNHAO ADQUIRIDOS   LISBOA               0   \n",
       "1   53  CASADO REG COMUNHAO ADQUIRIDOS   LISBOA               0   \n",
       "2   53  CASADO REG COMUNHAO ADQUIRIDOS   LISBOA               0   \n",
       "3   53  CASADO REG COMUNHAO ADQUIRIDOS   LISBOA               0   \n",
       "4   53  CASADO REG COMUNHAO ADQUIRIDOS   LISBOA               0   \n",
       "\n",
       "   active_portfolio     month        weekday  hour  \n",
       "0          25735.05  DEZEMBRO   QUINTA-FEIRA    13  \n",
       "1          25735.05     MARCO  SEGUNDA-FEIRA    12  \n",
       "2          25735.05     MARCO  SEGUNDA-FEIRA     9  \n",
       "3          25735.05  NOVEMBRO    TERCA-FEIRA    11  \n",
       "4          25735.05  NOVEMBRO         SABADO    15  "
      ]
     },
     "execution_count": 229,
     "metadata": {},
     "output_type": "execute_result"
    }
   ],
   "source": [
    "X.head()"
   ]
  },
  {
   "cell_type": "code",
   "execution_count": 233,
   "id": "internal-holiday",
   "metadata": {},
   "outputs": [],
   "source": [
    "X = df.drop([\"answered\", \"date\"], axis=1)\n",
    "X[\"location\"] = X['location'].fillna(X['location'].mode()[0])\n",
    "\n",
    "X[\"marital_status\"] = X[\"marital_status\"].fillna(X[\"marital_status\"].mode()[0])"
   ]
  },
  {
   "cell_type": "code",
   "execution_count": 234,
   "id": "agricultural-edmonton",
   "metadata": {},
   "outputs": [
    {
     "data": {
      "text/plain": [
       "age                 0\n",
       "marital_status      0\n",
       "location            0\n",
       "salary_interval     0\n",
       "active_portfolio    0\n",
       "month               0\n",
       "weekday             0\n",
       "hour                0\n",
       "dtype: int64"
      ]
     },
     "execution_count": 234,
     "metadata": {},
     "output_type": "execute_result"
    }
   ],
   "source": [
    "X.isna().sum()"
   ]
  },
  {
   "cell_type": "code",
   "execution_count": 193,
   "id": "broadband-graduation",
   "metadata": {},
   "outputs": [
    {
     "data": {
      "text/plain": [
       "Index(['age', 'marital_status', 'location', 'salary_interval',\n",
       "       'active_portfolio', 'month', 'week_day', 'hour'],\n",
       "      dtype='object')"
      ]
     },
     "execution_count": 193,
     "metadata": {},
     "output_type": "execute_result"
    }
   ],
   "source": [
    "X_test_final.columns"
   ]
  },
  {
   "cell_type": "code",
   "execution_count": 194,
   "id": "hybrid-chicago",
   "metadata": {},
   "outputs": [
    {
     "data": {
      "text/plain": [
       "Index(['age', 'marital_status', 'location', 'salary_interval',\n",
       "       'active_portfolio', 'month', 'weekday', 'hour'],\n",
       "      dtype='object')"
      ]
     },
     "execution_count": 194,
     "metadata": {},
     "output_type": "execute_result"
    }
   ],
   "source": [
    "X.columns"
   ]
  },
  {
   "cell_type": "code",
   "execution_count": 195,
   "id": "southwest-latter",
   "metadata": {},
   "outputs": [
    {
     "data": {
      "text/plain": [
       "((4, 8), (7516, 8))"
      ]
     },
     "execution_count": 195,
     "metadata": {},
     "output_type": "execute_result"
    }
   ],
   "source": [
    "X_test_final.shape, X.shape"
   ]
  },
  {
   "cell_type": "code",
   "execution_count": 202,
   "id": "marine-mortgage",
   "metadata": {},
   "outputs": [
    {
     "data": {
      "text/plain": [
       "4"
      ]
     },
     "execution_count": 202,
     "metadata": {},
     "output_type": "execute_result"
    }
   ],
   "source": [
    "len(X_test_final)"
   ]
  },
  {
   "cell_type": "code",
   "execution_count": 199,
   "id": "diverse-interstate",
   "metadata": {},
   "outputs": [
    {
     "data": {
      "text/plain": [
       "7516"
      ]
     },
     "execution_count": 199,
     "metadata": {},
     "output_type": "execute_result"
    }
   ],
   "source": [
    "len(X)"
   ]
  },
  {
   "cell_type": "code",
   "execution_count": 235,
   "id": "adjustable-singing",
   "metadata": {},
   "outputs": [
    {
     "data": {
      "text/plain": [
       "array([[0.000000e+00, 1.000000e+00, 0.000000e+00, ..., 5.300000e+01,\n",
       "        2.573505e+04, 1.300000e+01],\n",
       "       [0.000000e+00, 1.000000e+00, 0.000000e+00, ..., 5.300000e+01,\n",
       "        2.573505e+04, 1.200000e+01],\n",
       "       [0.000000e+00, 1.000000e+00, 0.000000e+00, ..., 5.300000e+01,\n",
       "        2.573505e+04, 9.000000e+00],\n",
       "       ...,\n",
       "       [0.000000e+00, 1.000000e+00, 0.000000e+00, ..., 5.700000e+01,\n",
       "        0.000000e+00, 1.500000e+01],\n",
       "       [0.000000e+00, 1.000000e+00, 0.000000e+00, ..., 5.700000e+01,\n",
       "        0.000000e+00, 1.700000e+01],\n",
       "       [0.000000e+00, 1.000000e+00, 0.000000e+00, ..., 5.700000e+01,\n",
       "        0.000000e+00, 1.600000e+01]])"
      ]
     },
     "execution_count": 235,
     "metadata": {},
     "output_type": "execute_result"
    }
   ],
   "source": [
    "# Import OneHotEncoder class from sklearn\n",
    "from sklearn.preprocessing import OneHotEncoder\n",
    "\n",
    "\n",
    "# Now let's one hot encode the features with the same code as before\n",
    "\n",
    "categorical_features = [\"marital_status\", \"location\", \"salary_interval\", \"month\", \"weekday\"]\n",
    "\n",
    "one_hot = OneHotEncoder()\n",
    "\n",
    "transformer = ColumnTransformer([(\"one_hot\",\n",
    "                                  one_hot,\n",
    "                                  categorical_features)],\n",
    "                                  remainder =\"passthrough\")\n",
    "\n",
    "\n",
    "# Fill train and test values separately\n",
    "\n",
    "transformed_X = transformer.fit_transform(X)# fit and transform the training data\n",
    "\n",
    "\n",
    "transformed_X_test_final = transformer.transform(X_test_final)\n",
    "\n",
    "\n",
    "\n",
    "\n",
    "\n",
    "# Check transformed and filled X_train\n",
    "\n",
    "transformed_X.toarray()"
   ]
  },
  {
   "cell_type": "code",
   "execution_count": null,
   "id": "certified-arthur",
   "metadata": {},
   "outputs": [],
   "source": [
    "loaded_job_model = load(filename=\"gs_random_forest_model_1.joblib\")"
   ]
  },
  {
   "cell_type": "code",
   "execution_count": 218,
   "id": "adult-thanks",
   "metadata": {},
   "outputs": [
    {
     "data": {
      "text/plain": [
       "RandomForestClassifier(min_samples_split=14, n_estimators=510)"
      ]
     },
     "execution_count": 218,
     "metadata": {},
     "output_type": "execute_result"
    }
   ],
   "source": [
    "rs_rf.best_estimator_"
   ]
  },
  {
   "cell_type": "markdown",
   "id": "operating-raleigh",
   "metadata": {},
   "source": [
    "## Test predictions"
   ]
  },
  {
   "cell_type": "code",
   "execution_count": 236,
   "id": "bizarre-affair",
   "metadata": {},
   "outputs": [
    {
     "data": {
      "text/plain": [
       "array([1, 1, 1, 1], dtype=int64)"
      ]
     },
     "execution_count": 236,
     "metadata": {},
     "output_type": "execute_result"
    }
   ],
   "source": [
    "rs_rf.predict(transformed_X_test_final)"
   ]
  },
  {
   "cell_type": "markdown",
   "id": "differential-minutes",
   "metadata": {},
   "source": [
    "## Notes\n",
    "\n",
    "for the realization of this model, i experimented with logistic regression, k nearest neighbor, and random forest classifier, the latter being the one that achieved the best results, in this case the dataset was unbalanced so the f1 score was taken into consideration for the evaluation of the model, in general random forest is a great model because due to its bootstrap mechanism, low bias(good performant in the training set) and low variance(good performance in the test set) can be achieved, cross validation was performed for hyper -parameter tuning, the exploratory analysis of the data was also carried out"
   ]
  },
  {
   "cell_type": "code",
   "execution_count": null,
   "id": "champion-brave",
   "metadata": {},
   "outputs": [],
   "source": []
  }
 ],
 "metadata": {
  "kernelspec": {
   "display_name": "Python 3",
   "language": "python",
   "name": "python3"
  },
  "language_info": {
   "codemirror_mode": {
    "name": "ipython",
    "version": 3
   },
   "file_extension": ".py",
   "mimetype": "text/x-python",
   "name": "python",
   "nbconvert_exporter": "python",
   "pygments_lexer": "ipython3",
   "version": "3.9.1"
  }
 },
 "nbformat": 4,
 "nbformat_minor": 5
}
